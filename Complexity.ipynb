{
 "cells": [
  {
   "cell_type": "code",
   "execution_count": 1,
   "id": "0064a0fc",
   "metadata": {},
   "outputs": [],
   "source": [
    "import matplotlib.pyplot as plt\n",
    "import numpy as np"
   ]
  },
  {
   "cell_type": "code",
   "execution_count": 8,
   "id": "9dc00bbf",
   "metadata": {},
   "outputs": [],
   "source": [
    "# !pip install matplotlib"
   ]
  },
  {
   "cell_type": "code",
   "execution_count": 46,
   "id": "b5b99dac",
   "metadata": {},
   "outputs": [
    {
     "data": {
      "text/plain": [
       "array([ 1,  2,  3,  4,  5,  6,  7,  8,  9, 10, 11, 12, 13, 14, 15, 16, 17,\n",
       "       18, 19, 20], dtype=int64)"
      ]
     },
     "execution_count": 46,
     "metadata": {},
     "output_type": "execute_result"
    }
   ],
   "source": [
    "n_max = 21\n",
    "n=np.arange(1,n_max).astype(np.int64)\n",
    "n"
   ]
  },
  {
   "cell_type": "code",
   "execution_count": 47,
   "id": "15acb882",
   "metadata": {},
   "outputs": [],
   "source": [
    "int_max = (2**n - 1)*(2**(n-1)-1)\n",
    "int_min =  2**n-1\n",
    "\n",
    "\n",
    "\n",
    "p_min = 1\n",
    "p_max = 50"
   ]
  },
  {
   "cell_type": "code",
   "execution_count": 49,
   "id": "163c9cb8",
   "metadata": {},
   "outputs": [],
   "source": [
    "# Classical baselines\n",
    "\n",
    "# bilp = 2**(2**n)\n",
    "IP = n*np.log2(n)\n",
    "IDP = n*np.log2(3)\n",
    "\n",
    "#avg_bilpQ_int = (2**(n) - 1) + p_min * ( 3 * (int_min) + 2*(2**n - 1))\n",
    "\n",
    "# BILP-Q\n",
    "lo_bilpQ_int = (2**(n) - 1) + p_min * ( 3 * (int_min) + 2*(2**n - 1))\n",
    "up_bilpQ_int = (2**(n) - 1) + p_min * ( 3 * (int_max) + 2*(2**n - 1))\n",
    "\n",
    "\n",
    "lo_bilpQ_p = (2**(n) - 1) + p_min * (3 * (2**n - 1) + 2*(2**(n) - 1))\n",
    "up_bilpQ_p = (2**(n) - 1) + p_max * (3 * (2**n - 1) + 2*(2**(n) - 1))"
   ]
  },
  {
   "cell_type": "code",
   "execution_count": 50,
   "id": "5e1a3feb",
   "metadata": {},
   "outputs": [],
   "source": [
    "lo_bilpQ_int = np.log2(lo_bilpQ_int)\n",
    "up_bilpQ_int = np.log2(up_bilpQ_int)\n",
    "\n",
    "lo_bilpQ_p = np.log2(lo_bilpQ_p)\n",
    "up_bilpQ_p = np.log2(up_bilpQ_p)\n",
    "\n",
    "#IP = np.log2(IP)\n",
    "#IDP = np.log2(IDP)"
   ]
  },
  {
   "cell_type": "code",
   "execution_count": 93,
   "id": "390ef299",
   "metadata": {},
   "outputs": [
    {
     "data": {
      "image/png": "[encoded data removed]",
      "text/plain": [
       "<Figure size 324x216 with 1 Axes>"
      ]
     },
     "metadata": {
      "needs_background": "light"
     },
     "output_type": "display_data"
    }
   ],
   "source": [
    "#plt.tight_layout()\n",
    "font=14\n",
    "plt.figure(figsize=(4.5,3))\n",
    "\n",
    "plt.plot(n, IP, label = 'IP', color='limegreen', linestyle = 'dotted')\n",
    "plt.plot(n, IDP, label = 'IDP-BOSS', color='blue', linestyle = 'dotted') #, color='darkgreen', linestyle = 'dashed')\n",
    "#plt.plot(n, lo_bilpQ_int, label = 'BILP-Q', color='blue', linestyle = 'dotted')\n",
    "\n",
    "plt.fill_between(n, lo_bilpQ_p, up_bilpQ_p, color = 'turquoise',\n",
    "                 label = r'BILP-Q ($s=2^n-1$)', alpha = 0.2,\n",
    "                 facecolor=\"none\", hatch=\"///\", edgecolor=\"b\", linewidth=1.0)\n",
    "\n",
    "plt.fill_between(n, lo_bilpQ_int, up_bilpQ_int, color = 'lightblue',\n",
    "                 label = r'BILP-Q ($p=1$)', alpha = 0.3)\n",
    "\n",
    "plt.xlabel(r'n° agents $(n)$' ,fontdict={'fontsize':font})\n",
    "plt.ylabel(r'Time Complexity $(log_2)$', fontdict={'fontsize':font}) #- $log_{2}(n°steps)$\n",
    "plt.ylim(-5, 50)\n",
    "plt.grid(alpha=0.3)\n",
    "plt.ticklabel_format(style='sci', axis='y', scilimits=(0,0))\n",
    "#plt.vlines(4, -5, 60, colors='gray', linestyles='dashed', alpha=.5)\n",
    "plt.legend(fontsize=font-2, bbox_to_anchor=(1.01,.8), ncol =1)\n",
    "plt.xticks(np.arange(0, 21, 2))\n",
    "plt.yticks([0, 10, 20, 30, 40, 50, 60])\n",
    "plt.tick_params(labelsize=12)\n",
    "plt.savefig('output/complexity.png', bbox_inches='tight', dpi =400)\n",
    "plt.show()"
   ]
  },
  {
   "cell_type": "code",
   "execution_count": null,
   "id": "888c9a02",
   "metadata": {},
   "outputs": [],
   "source": [
    "# IDP = 3**n\n",
    "\n",
    "# # BILP-Q\n",
    "# BilpQ = (2**(n) - 1) + 50 * ( 3 * (int_min) + 2*(2**n - 1))\n",
    "\n",
    "# BilpQ = np.log2(BilpQ)\n",
    "# IDP = np.log2(IDP)"
   ]
  },
  {
   "cell_type": "code",
   "execution_count": null,
   "id": "3c4cf473",
   "metadata": {},
   "outputs": [],
   "source": [
    "# #plt.tight_layout()\n",
    "# font=13\n",
    "# plt.figure(figsize=(5.5,3.5))\n",
    "\n",
    "# plt.plot(n, BilpQ, label = 'BILP-Q', color='limegreen', linestyle = 'dotted')\n",
    "# plt.plot(n, IDP, label = 'IDP-BOSS', color='blue', linestyle = 'dotted')\n",
    "\n",
    "# plt.xlabel(r'n° agents $(n)$' ,fontdict={'fontsize':font})\n",
    "# plt.ylabel(r'Time/Gate Complexity $(log_2)$', fontdict={'fontsize':font}) #- $log_{2}(n°steps)$\n",
    "# plt.ylim(-5, 50)\n",
    "# plt.grid(alpha=0.3)\n",
    "# plt.ticklabel_format(style='sci', axis='y', scilimits=(0,0))\n",
    "# plt.legend(fontsize=11)#loc='lower center', bbox_to_anchor=(0.5, -0.3), ncol =4, fontsize=11)\n",
    "# plt.xticks(np.arange(0, 21, 2))\n",
    "# plt.yticks([0, 10, 20, 30, 40, 50, 60])\n",
    "# plt.tick_params(labelsize=12)\n",
    "# plt.savefig('output/complexity.png', bbox_inches='tight', dpi =200)\n",
    "# plt.show()\n",
    "# # plt.close()"
   ]
  }
 ],
 "metadata": {
  "kernelspec": {
   "display_name": "Python 3 (ipykernel)",
   "language": "python",
   "name": "python3"
  },
  "language_info": {
   "codemirror_mode": {
    "name": "ipython",
    "version": 3
   },
   "file_extension": ".py",
   "mimetype": "text/x-python",
   "name": "python",
   "nbconvert_exporter": "python",
   "pygments_lexer": "ipython3",
   "version": "3.7.9"
  }
 },
 "nbformat": 4,
 "nbformat_minor": 5
}
