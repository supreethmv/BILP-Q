{
 "cells": [
  {
   "cell_type": "code",
   "execution_count": 1,
   "id": "0064a0fc",
   "metadata": {},
   "outputs": [],
   "source": [
    "from Utils_Solvers import *\n",
    "from Utils_CSG import *\n",
    "from Utils import *"
   ]
  },
  {
   "cell_type": "code",
   "execution_count": 2,
   "id": "361934ea",
   "metadata": {},
   "outputs": [],
   "source": [
    "# coalition_values, linear, quadratic = get_linear_quads(Normal_distribution,2)"
   ]
  },
  {
   "cell_type": "code",
   "execution_count": 3,
   "id": "5d848655",
   "metadata": {},
   "outputs": [],
   "source": [
    "# final_qaoa_result, _, _, _ = QAOA_optimization(linear, quadratic, n_init=2, p_list=[1])\n",
    "# sample_set_dwave = dwave_solver(linear, quadratic)\n",
    "# sample_set_exact = exact_solver(linear, quadratic)"
   ]
  },
  {
   "cell_type": "code",
   "execution_count": 4,
   "id": "8d478818",
   "metadata": {},
   "outputs": [],
   "source": [
    "# result = final_qaoa_result\n",
    "\n",
    "# solution = get_ordered_solution(result.variables_dict)\n",
    "# fval = result.fval\n",
    "# time = result.min_eigen_solver_result.optimizer_time\n",
    "    \n",
    "\n",
    "# probabilities = []\n",
    "# for sample in result.samples:\n",
    "#     probabilities.append(sample.probability)\n",
    "#     if sample.fval == fval:\n",
    "#         prob = sample.probability\n",
    "# probabilities = sorted(probabilities, reverse=True)\n",
    "# rank = probabilities.index(prob)\n",
    "\n",
    "# #    return solution, fval, prob, rank, time"
   ]
  },
  {
   "cell_type": "code",
   "execution_count": null,
   "id": "6bd3ebb4",
   "metadata": {},
   "outputs": [],
   "source": []
  },
  {
   "cell_type": "code",
   "execution_count": 5,
   "id": "10386caf",
   "metadata": {},
   "outputs": [],
   "source": [
    "# qaoa_result = QAOA_optimization(linear, quadratic, n_init=10, p=1)\n",
    "# sample_set_dwave = dwave_solver(linear, quadratic)\n",
    "# sample_set_exact = exact_solver(linear, quadratic)\n",
    "\n",
    "# solution1, fval1, prob1, rank1, time1 = results_from_QAOA(result)\n",
    "# solution2, fval2, prob2, rank2, time2 = results_from_dwave(sample_set_dwave)\n",
    "# solution3, fval3, prob3, rank3, time3 = results_from_dwave(sample_set_exact, exact=True)"
   ]
  },
  {
   "cell_type": "code",
   "execution_count": 6,
   "id": "a6715dba",
   "metadata": {},
   "outputs": [],
   "source": [
    "# print(solution_qaoa)\n",
    "# print(solution_dwave)\n",
    "# print(solution_exact)"
   ]
  },
  {
   "cell_type": "code",
   "execution_count": null,
   "id": "eb9a75f2",
   "metadata": {},
   "outputs": [
    {
     "name": "stdout",
     "output_type": "stream",
     "text": [
      "running exact dwave ...\n",
      "running QAOA ...\n",
      "running dwave ...\n",
      "running exact dwave ...\n"
     ]
    }
   ],
   "source": [
    "distributions = [Agent_based_uniform] #, Agent_based_normal]\n",
    "                 #,\n",
    "#                  Modified_uniform_distribution, Normal_distribution, SVA_BETA_distribution, Weibull_distribution,\n",
    "#                  Rayleigh_distribution,Weighted_random_with_chisquare, F_distribution, Laplace_or_double_exponential]\n",
    "n_agents = [2,3,4]\n",
    "\n",
    "\n",
    "df = pd.DataFrame(columns = [\"distribution\", \"n_agents\", \"solution\", \"fval\", \"prob\", \"rank\", \"time\", \"device\", \"flag\"])\n",
    "\n",
    "for distribution in distributions:\n",
    "    \n",
    "    distr = distribution.__name__\n",
    "    \n",
    "    for n in n_agents:\n",
    "\n",
    "        coalition_values, linear, quadratic = get_linear_quads(distribution,n)\n",
    "\n",
    "        # (Exact) Dwave\n",
    "        print('running exact dwave ...')\n",
    "        sample_set_exact = exact_solver(linear, quadratic)\n",
    "        solution_exact, fval, prob, rank, time = results_from_dwave(sample_set_exact, exact=True)\n",
    "        flag = True\n",
    "        df = df.append(pd.Series([distr, n, solution_exact, fval, prob, rank, time, 'exact (dwave)', flag], index = df.columns), ignore_index=True)\n",
    "\n",
    "        # QAOA\n",
    "        print('running QAOA ...')\n",
    "        qaoa_result, p, init, _ = QAOA_optimization(linear, quadratic, n_init=100, p_list=np.arange(1,20))       \n",
    "        solution, fval, prob, rank, time = results_from_QAOA(qaoa_result)\n",
    "        flag = solution_exact == solution\n",
    "        df = df.append(pd.Series([distr, n, solution, fval, prob, rank, time, 'QAOA', flag], index = df.columns), ignore_index=True)\n",
    "        \n",
    "        # Dwave\n",
    "        print('running dwave ...')\n",
    "        sample_set_dwave = dwave_solver(linear, quadratic)\n",
    "        solution, fval, prob, rank, time = results_from_dwave(sample_set_dwave)\n",
    "        flag = solution_exact == solution\n",
    "        df = df.append(pd.Series([distr, n, solution, fval, prob, rank, time, 'dwave', flag], index = df.columns), ignore_index=True)\n",
    "\n",
    "        \n",
    "        #         if not solution_exact == solution_dwave:\n",
    "        #             print(f'(Error - dwave) Executing {distribution.__name__} distribution for {n} agents',end=' ')\n",
    "        #             print('\\n')\n",
    "        #         elif not solution_exact == solution_qaoa:\n",
    "        #             print(f'(Error - qaoa) Executing {distribution.__name__} distribution for {n} agents',end=' ')\n",
    "        #             print('\\n')\n",
    "        #         else:\n",
    "        #             print(f'(OK) Executing {distribution.__name__} distribution for {n} agents',end=' ')\n",
    "        #             print('\\n')\n",
    "        #         print('--------------------------------------------------------')"
   ]
  },
  {
   "cell_type": "code",
   "execution_count": null,
   "id": "47e5b220",
   "metadata": {},
   "outputs": [],
   "source": [
    "df.to_csv('solution.csv', index=False)"
   ]
  },
  {
   "cell_type": "code",
   "execution_count": null,
   "id": "11e78278",
   "metadata": {},
   "outputs": [],
   "source": [
    "import qiskit.tools.jupyter\n",
    "\n",
    "%qiskit_version_table\n",
    "%qiskit_copyright"
   ]
  },
  {
   "cell_type": "code",
   "execution_count": null,
   "id": "c731ad48",
   "metadata": {},
   "outputs": [],
   "source": [
    "# lines = ['this is the foo bar line to append','this is the second line', 'whatever third line']\n",
    "\n",
    "# out = open('solution.txt','a')\n",
    "# for l in lines:\n",
    "#     out.write(l)\n",
    "#     out.write(\"\\n\")\n",
    "# out.close()"
   ]
  },
  {
   "cell_type": "code",
   "execution_count": null,
   "id": "214f6a19",
   "metadata": {},
   "outputs": [],
   "source": [
    "# distributions = [Agent_based_uniform, Agent_based_normal, Beta_distribution, Modified_normal_distribution,\n",
    "#                  Modified_uniform_distribution, Normal_distribution, SVA_BETA_distribution, Weibull_distribution,\n",
    "#                  Rayleigh_distribution,Weighted_random_with_chisquare, F_distribution, Laplace_or_double_exponential]\n",
    "# n_agents = [4]\n",
    "\n",
    "# for distribution in distributions:\n",
    "#     for n in n_agents:\n",
    "#         # print(f'Executing {distribution.__name__} distribution for {n} agents,',end=' ')\n",
    "#         coalition_values, linear, quadratic = get_linear_quads(distribution,n)\n",
    "        \n",
    "        \n",
    "#         #_, fval, _, rank = results_from_QAOA(qaoa_result)\n",
    "#         # print(string, f'rank: {rank},', f'fval:{fval},', f'optimal p:{p}')\n",
    "        \n",
    "#         qaoa_result, p, init = QAOA_optimization(linear, quadratic, n_init=50, p_list=np.arange(1,10))\n",
    "#         sample_set_dwave = dwave_solver(linear, quadratic)\n",
    "#         sample_set_exact = exact_solver(linear, quadratic)\n",
    "        \n",
    "        \n",
    "        \n",
    "#         solution_qaoa, _,_,_ = results_from_QAOA(qaoa_result)\n",
    "#         solution_dwave, _,_,_ = results_from_dwave(sample_set_dwave)\n",
    "#         solution_exact, _,_,_ = results_from_dwave(sample_set_exact, exact=True)\n",
    "        \n",
    "#         if not solution_exact == solution_dwave:\n",
    "#             print(f'(Error - dwave) Executing {distribution.__name__} distribution for {n} agents',end=' ')\n",
    "#             print('\\n')\n",
    "#         elif not solution_exact == solution_qaoa:\n",
    "#             print(f'(Error - qaoa) Executing {distribution.__name__} distribution for {n} agents',end=' ')\n",
    "#             print('\\n')\n",
    "#         else:\n",
    "#             print(f'(OK) Executing {distribution.__name__} distribution for {n} agents',end=' ')\n",
    "#             print('\\n')\n",
    "#         print('--------------------------------------------------------')"
   ]
  },
  {
   "cell_type": "code",
   "execution_count": null,
   "id": "69846051",
   "metadata": {},
   "outputs": [],
   "source": [
    "# df = sample_set_dwave.to_pandas_dataframe()\n",
    "\n",
    "# row_min = df[df.energy == df.energy.min()]\n",
    "# row_min\n",
    "# cols = []\n",
    "# for col in df.columns:\n",
    "#     if 'x_' in col:\n",
    "#         cols.append(col)\n",
    "\n",
    "# solution = []\n",
    "\n",
    "# for col in cols:\n",
    "#     solution.append(row_min.iloc[0][col])\n",
    "\n",
    "# fval = row_min.energy.iloc[0]"
   ]
  },
  {
   "cell_type": "code",
   "execution_count": null,
   "id": "f40e7068",
   "metadata": {},
   "outputs": [],
   "source": [
    "# row_min.num_occurrences\n",
    "# # occ_min_fval = row_min.num_occurrences[0]\n",
    "# # occurences = df.num_occurrences.to_list()"
   ]
  },
  {
   "cell_type": "code",
   "execution_count": null,
   "id": "d5944830",
   "metadata": {},
   "outputs": [],
   "source": [
    "# df"
   ]
  },
  {
   "cell_type": "code",
   "execution_count": null,
   "id": "657f2b08",
   "metadata": {},
   "outputs": [],
   "source": [
    "# table_headers = ['Distribution', 'No. of Agents','Solution Function Value','Solution Binary String',\\\n",
    "#                  'QAOA Solution','True Solution (Classical)','QAOA Result','Time taken for QAOA',\\\n",
    "#                  'Optimal p (QAOA layers)','Ranking Probability','Proability Distribution']\n",
    "# table_contents = []\n",
    "\n",
    "\n",
    "# distributions = [Agent_based_uniform, Agent_based_normal, Beta_distribution, Modified_normal_distribution,\n",
    "#                  Modified_uniform_distribution, Normal_distribution, SVA_BETA_distribution, Weibull_distribution,\n",
    "#                  Rayleigh_distribution, Weighted_random_with_chisquare, F_distribution, Laplace_or_double_exponential]\n",
    "# n_agents = [2,3,4]\n",
    "# #n_agents = [3]\n",
    "\n",
    "# for distribution in distributions:\n",
    "#     for n in n_agents:\n",
    "#         print(f'Executing {distribution.__name__} distribution for {n} agents,',end=' ')\n",
    "#         coalition_values, linear, quadratic = get_linear_quads(distribution,n)\n",
    "\n",
    "\n",
    "# #     p = 0                                            # number of QAOA layers\n",
    "# #     classical_solution = 0\n",
    "# #     qaoa_solution = 1\n",
    "\n",
    "# #     while(classical_solution != qaoa_solution and p<10):\n",
    "# #       p+=1\n",
    "# #       start_time = time.time()\n",
    "# #       solution = solve_QUBO(linear,quadratic,qaoa_for_qubo,p)\n",
    "# #       optimal_coalition_structure = decode(solution.x,coalition_values)\n",
    "# #       qaoa_solution = decode(solution.x,coalition_values)\n",
    "# #       tte = time.time()-start_time\n",
    "# #       print(f'Time taken = {tte} for  p = {p}')\n",
    "# #       classical_solution_binary_string = list(map(np.float,list(solve_BILP_classical(coalition_values))))\n",
    "      \n",
    "# #       probabilities = []\n",
    "# #       for sample in solution.samples:\n",
    "# #         probabilities.append(sample.probability)\n",
    "# #         if False not in (sample.x == classical_solution_binary_string):\n",
    "# #           true_solution_probability = sample.probability\n",
    "# #       probabilities = sorted(probabilities, reverse=True)\n",
    "# #       rank = probabilities.index(true_solution_probability)\n",
    "# #       classical_solution = decode(classical_solution_binary_string, coalition_values)\n",
    "\n",
    "# #     row = []\n",
    "# #     row.append(distribution.__name__)                              #distribution used\n",
    "# #     row.append(n)                                                  #number of agents\n",
    "# #     row.append(solution.fval)                                      #Solution Function Value\n",
    "# #     row.append(list(map(int,solution.x)))                          #Solution Binary String\n",
    "# #     row.append(qaoa_solution)                                      #QAOA Solution\n",
    "# #     row.append(classical_solution)                                 #True solution\n",
    "# #     row.append(classical_solution == qaoa_solution)                #Correctness of the Quantum solution\n",
    "# #     row.append(tte)                                                #Time to execute the QAOA circuit\n",
    "# #     row.append(p if classical_solution == qaoa_solution else None) #value of p, number of layers, if the quantum solution is correct\n",
    "# #     row.append(f\"{rank}/{len(probabilities)}\")                     #Probability rank of the True solution\n",
    "# #     row.append(solution.samples)                                   #Proability distribution generated\n",
    "# #     table_contents.append(row)\n",
    "# #     print('\\n')"
   ]
  },
  {
   "cell_type": "code",
   "execution_count": null,
   "id": "e676b438",
   "metadata": {},
   "outputs": [],
   "source": [
    "# #view output table\n",
    "# def highlight_false(s, column):\n",
    "#     is_false = pd.Series(data=False, index=s.index)\n",
    "#     is_false[column] = s.loc[column] == False\n",
    "#     return ['background-color: black' if is_false.any() else '' for v in is_false]\n",
    "\n",
    "# df = pd.DataFrame(table_contents, columns=table_headers)\n",
    "# df.to_pickle('/content/drive/MyDrive/'+'report.pkl')\n",
    "\n",
    "# df.drop('Proability Distribution', axis=1).style.apply(highlight_false, column='QAOA Result', axis=1)"
   ]
  }
 ],
 "metadata": {
  "kernelspec": {
   "display_name": "Python 3 (ipykernel)",
   "language": "python",
   "name": "python3"
  },
  "language_info": {
   "codemirror_mode": {
    "name": "ipython",
    "version": 3
   },
   "file_extension": ".py",
   "mimetype": "text/x-python",
   "name": "python",
   "nbconvert_exporter": "python",
   "pygments_lexer": "ipython3",
   "version": "3.8.10"
  }
 },
 "nbformat": 4,
 "nbformat_minor": 5
}
