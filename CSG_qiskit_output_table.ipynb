{
  "nbformat": 4,
  "nbformat_minor": 0,
  "metadata": {
    "kernelspec": {
      "display_name": "Python 3",
      "language": "python",
      "name": "python3"
    },
    "language_info": {
      "codemirror_mode": {
        "name": "ipython",
        "version": 3
      },
      "file_extension": ".py",
      "mimetype": "text/x-python",
      "name": "python",
      "nbconvert_exporter": "python",
      "pygments_lexer": "ipython3",
      "version": "3.7.7"
    },
    "colab": {
      "name": "CSG_qiskit_output_table.ipynb",
      "provenance": [],
      "collapsed_sections": []
    }
  },
  "cells": [
    {
      "cell_type": "code",
      "metadata": {
        "id": "aGq1Kbo0hMZz"
      },
      "source": [
        "!pip install qubovert\n",
        "!pip install qiskit-aqua\n",
        "!pip install qiskit"
      ],
      "execution_count": null,
      "outputs": []
    },
    {
      "cell_type": "code",
      "metadata": {
        "id": "ZS_3yr1Q78En",
        "colab": {
          "base_uri": "https://localhost:8080/",
          "height": 36
        },
        "outputId": "9189451b-eb3d-4b1a-89a2-427cd6a9d6de"
      },
      "source": [
        "import qiskit\n",
        "qiskit.__version__"
      ],
      "execution_count": 149,
      "outputs": [
        {
          "output_type": "execute_result",
          "data": {
            "application/vnd.google.colaboratory.intrinsic+json": {
              "type": "string"
            },
            "text/plain": [
              "'0.19.1'"
            ]
          },
          "metadata": {},
          "execution_count": 149
        }
      ]
    },
    {
      "cell_type": "code",
      "metadata": {
        "id": "XhD9rxYp7NQ4"
      },
      "source": [
        "from qiskit import BasicAer\n",
        "from qiskit.aqua import aqua_globals, QuantumInstance\n",
        "\n",
        "from qiskit.aqua.algorithms import QAOA, NumPyMinimumEigensolver\n",
        "from qiskit.optimization.algorithms import MinimumEigenOptimizer, RecursiveMinimumEigenOptimizer\n",
        "from qiskit.optimization import QuadraticProgram\n",
        "\n",
        "import math\n",
        "import numpy as np\n",
        "import pandas as pd\n",
        "from sympy import *\n",
        "import re\n",
        "import time\n",
        "import random\n",
        "import itertools"
      ],
      "execution_count": 150,
      "outputs": []
    },
    {
      "cell_type": "code",
      "source": [
        "def generate_problem_instance(distribution, n_agents):\n",
        "  if distribution.lower() == 'random' or distribution.lower() == 'r':\n",
        "    coalition_values = {}\n",
        "    for i in range(1,n_agents+1):\n",
        "      temp = list(itertools.combinations(range(1,n_agents+1), i))\n",
        "      for coalition in temp:\n",
        "        coalition_values[','.join([str(x) for x in coalition])] = random.randint(1,100)\n",
        "  if distribution.lower() == 'normal' or distribution.lower() == 'n':\n",
        "    mu, sigma = 50, 20 # mean and standard deviation\n",
        "    s = np.random.normal(mu, sigma, 2**n_agents)\n",
        "    coalition_values = {}\n",
        "    idx = 0\n",
        "    for i in range(1,n_agents+1):\n",
        "      temp = list(itertools.combinations(range(1,n_agents+1), i))\n",
        "      for coalition in temp:\n",
        "        coalition_values[','.join([str(x) for x in coalition])] = int(s[idx])\n",
        "        idx+=1\n",
        "  if distribution.lower() == 'agent-based-uniform' or distribution.lower() == 'abu':\n",
        "    '''\n",
        "\n",
        "    '''\n",
        "  if distribution.lower() == 'agent-based-normal' or distribution.lower() == 'abn':\n",
        "    '''\n",
        "    \n",
        "    '''\n",
        "  if distribution.lower() == 'modified-uniform' or distribution.lower() == 'mu':\n",
        "    '''\n",
        "    \n",
        "    '''\n",
        "  if distribution.lower() == 'rayleigh' or distribution.lower() == 'r':\n",
        "    '''\n",
        "    \n",
        "    '''\n",
        "  if distribution.lower() == 'single-value-agent' or distribution.lower() == 'sva':\n",
        "    '''\n",
        "\n",
        "    '''\n",
        "  return coalition_values"
      ],
      "metadata": {
        "id": "RzdG4sjO-CjL"
      },
      "execution_count": 151,
      "outputs": []
    },
    {
      "cell_type": "code",
      "metadata": {
        "id": "rrCc6vj2LXLN"
      },
      "source": [
        "def convert_to_BILP(coalition_values):\n",
        "  '''\n",
        "\n",
        "  '''\n",
        "  x={}\n",
        "  for i in range(len(coalition_values)):\n",
        "    x[i] = symbols(f'x_{i}')\n",
        "  n = list(coalition_values.keys())[-1].count(',')+1                              #get number of agents\n",
        "  S=[]\n",
        "  for agent in range(n):\n",
        "    temp = []\n",
        "    for coalition in coalition_values.keys():\n",
        "      if str(agent+1) in coalition:\n",
        "        temp.append(1)                                                            #'1' if agent is present in coalition\n",
        "      else:\n",
        "        temp.append(0)                                                            #'0' if agent is not present in coalition\n",
        "    S.append(temp)\n",
        "  b=[1]*n                                                                         # vector b is a unit vector in case of BILP of CSGP\n",
        "  c = list(coalition_values.values())                                             # vector of all costs (coalition values)\n",
        "  return (c,S,b)"
      ],
      "execution_count": 152,
      "outputs": []
    },
    {
      "cell_type": "code",
      "metadata": {
        "id": "GZNL3F76Mv-U"
      },
      "source": [
        "def natural_keys(text):\n",
        "    '''\n",
        "    alist.sort(key=natural_keys) sorts in human order\n",
        "    http://nedbatchelder.com/blog/200712/human_sorting.html\n",
        "    '''\n",
        "    return [ atoi(c) for c in re.split(r'(\\d+)', text) ]\n",
        "def atoi(text):\n",
        "    return int(text) if text.isdigit() else text\n",
        "\n",
        "\n",
        "def get_QUBO_coeffs(c,S,b,P):\n",
        "  '''\n",
        "\n",
        "  '''\n",
        "  x={}\n",
        "  for i in range(len(c)):\n",
        "    x[i] = symbols(f'x_{i}')\n",
        "  final_eq = simplify(sum([c_value*x[i] for i,c_value in enumerate(c)])+P*sum([expand((sum([x[idx] for idx,element in enumerate(agent) if element])-1)**2) for agent in S])) #simplify numerical equation\n",
        "  linear={}\n",
        "  quadratic={}\n",
        "  for term in final_eq.as_coeff_add()[1]:\n",
        "    term = str(term)\n",
        "    if '**' in term:                                                              #get the coefficient of the squared terms as linear coefficients (diagonal elements of the Q matrix in the QUBO problem)\n",
        "      if term.count('*')==3:\n",
        "        linear[term.split('*')[1]] = int(term.split('*')[0])\n",
        "      else:\n",
        "        if not term.startswith('-'):\n",
        "          linear[term.split('**')[0]] = int(1)\n",
        "        else:\n",
        "          linear[term.split('**')[0][1:]] = int(-1)\n",
        "    elif term.count('*')==1:                                                        #get the coefficient of the linear terms (diagonal elements of the Q matrix in the QUBO problem)\n",
        "      linear[term.split('*')[1]] += int(term.split('*')[0])\n",
        "    else:\n",
        "      quadratic[(term.split('*')[1],term.split('*')[2])] = int(term.split('*')[0])  #get the coefficient of quadratic terms (upper diagonal elements of the Q matrix of the QUBO problem)  \n",
        "  return linear,quadratic"
      ],
      "execution_count": 153,
      "outputs": []
    },
    {
      "cell_type": "code",
      "metadata": {
        "id": "g1WTaZHDOQb8"
      },
      "source": [
        "def solve_QUBO(linear, quadratic, algo='qaoa', p=1):\n",
        "  '''\n",
        "  \n",
        "  '''\n",
        "  keys = list(linear.keys())\n",
        "  keys.sort(key=natural_keys)\n",
        "  linear = [linear[key] for key in keys]\n",
        "  qubo = QuadraticProgram()\n",
        "  for i in range(len(linear)):\n",
        "    qubo.binary_var(f'x_{i}')                                                             #initialize the binary variables\n",
        "  qubo.maximize(linear=linear, quadratic=quadratic)                                       #initialize the QUBO maximization problem instance\n",
        "  op, offset = qubo.to_ising()\n",
        "  qp=QuadraticProgram()\n",
        "  qp.from_ising(op, offset, linear=True)\n",
        "  aqua_globals.random_seed = 123\n",
        "  quantum_instance = QuantumInstance(BasicAer.get_backend('statevector_simulator'),       #qasm simulator\n",
        "                                     seed_simulator=aqua_globals.random_seed,\n",
        "                                     seed_transpiler=aqua_globals.random_seed)\n",
        "  if algo == 'qaoa':\n",
        "    qaoa_mes = QAOA(quantum_instance=quantum_instance, initial_point=[0., 0.])\n",
        "    qaoa = MinimumEigenOptimizer(qaoa_mes)    # using QAOA\n",
        "    result = qaoa.solve(qubo)\n",
        "  else:\n",
        "    exact_mes = NumPyMinimumEigensolver()\n",
        "    exact = MinimumEigenOptimizer(exact_mes)  # using the exact classical numpy minimum eigen solver\n",
        "    result = exact.solve(qubo)\n",
        "  return result"
      ],
      "execution_count": 154,
      "outputs": []
    },
    {
      "cell_type": "code",
      "metadata": {
        "id": "GAKurdtt5tDp"
      },
      "source": [
        "#convert solution binary string to coalition structure and also output the coalition\n",
        "def decode(solution,coalition_values):\n",
        "  '''\n",
        "\n",
        "  '''\n",
        "  output = []\n",
        "  for index,element in enumerate(solution):\n",
        "    if int(element)!=0:\n",
        "      output.append(set(list(coalition_values)[index].split(',')))\n",
        "  return output"
      ],
      "execution_count": 155,
      "outputs": []
    },
    {
      "cell_type": "code",
      "source": [
        "def get_linear_quads(distribution,n):\n",
        "  coalition_values = generate_problem_instance(distribution, n)\n",
        "  c,S,b = convert_to_BILP(coalition_values)\n",
        "  qubo_penalty =-50\n",
        "  linear,quadratic = get_QUBO_coeffs(c,S,b,qubo_penalty)\n",
        "  return coalition_values,linear,quadratic"
      ],
      "metadata": {
        "id": "POQElZYVHygA"
      },
      "execution_count": 156,
      "outputs": []
    },
    {
      "cell_type": "code",
      "source": [
        ""
      ],
      "metadata": {
        "id": "nRHLkF84axNH"
      },
      "execution_count": 156,
      "outputs": []
    },
    {
      "cell_type": "code",
      "source": [
        ""
      ],
      "metadata": {
        "id": "ddoFJDyXaxKg"
      },
      "execution_count": 156,
      "outputs": []
    },
    {
      "cell_type": "code",
      "source": [
        ""
      ],
      "metadata": {
        "id": "ihapvZQ-axHy"
      },
      "execution_count": 156,
      "outputs": []
    },
    {
      "cell_type": "markdown",
      "source": [
        "##Classical Solver"
      ],
      "metadata": {
        "id": "IfemJD9Revyb"
      }
    },
    {
      "cell_type": "code",
      "metadata": {
        "id": "yIuNON72R8gF"
      },
      "source": [
        "#Classical BILP solver\n",
        "\n",
        "def constraint(x,S):\n",
        "  '''\n",
        "  \n",
        "  '''\n",
        "  for i in range(len(S)):\n",
        "    temp = 0\n",
        "    for j in range(len(x)):\n",
        "      temp+= (S[i][j]*int(x[j]))\n",
        "    if temp!=1:\n",
        "      return False\n",
        "  return True\n",
        "\n",
        "\n",
        "def solve_BILP_classical(coalition_values):\n",
        "  '''\n",
        "  \n",
        "  '''\n",
        "  S=[]\n",
        "  for i in range(math.ceil(math.sqrt(len(coalition_values)))):                    #get number of agents\n",
        "    S.append([])\n",
        "    for j,value in coalition_values.items():\n",
        "      if str(i+1) in j:\n",
        "        S[i].append(1)\n",
        "      else:\n",
        "        S[i].append(0)\n",
        "  optimal_cost = 0\n",
        "  for b in range(2**len(coalition_values)):\n",
        "    x = [int(t) for t in reversed(list(bin(b)[2:].zfill(len(coalition_values))))]\n",
        "    x = ''.join(str(e) for e in x)\n",
        "    if constraint(x,S):\n",
        "      cost = 0\n",
        "      for j in range(len(x)):\n",
        "        cost+=coalition_values[list(coalition_values.keys())[j]]*int(x[j])\n",
        "      if optimal_cost<cost:\n",
        "        optimal_cost = cost\n",
        "        optimal_x = x\n",
        "  return optimal_x"
      ],
      "execution_count": 157,
      "outputs": []
    },
    {
      "cell_type": "markdown",
      "source": [
        "##Execute Functions and Generate Table"
      ],
      "metadata": {
        "id": "W0qNWpT4djGm"
      }
    },
    {
      "cell_type": "code",
      "source": [
        "distributions = ['RANDOM','NORMAL']\n",
        "n_agents = [2,3]\n",
        "\n",
        "table_headers = ['Distribution', 'No. of Agents','Solution Function Value','Solution Binary String','QAOA Solution','True Solution (Classical)']\n",
        "table_contents = []\n",
        "\n",
        "for distribution in distributions:\n",
        "  for n in n_agents:\n",
        "    start_time = time.time()\n",
        "    print(f'Executing {distribution} distribution for {n} agents',end='')\n",
        "    row = []\n",
        "    coalition_values, linear, quadratic = get_linear_quads(distribution,n)\n",
        "    p = 3                                            # number of QAOA layers\n",
        "    solution = solve_QUBO(linear,quadratic,'qaoa',p)\n",
        "    optimal_coalition_structure = decode(solution.x,coalition_values)\n",
        "\n",
        "    row.append(distribution)\n",
        "    row.append(n)\n",
        "    row.append(solution.fval)\n",
        "    row.append(list(map(int,solution.x)))\n",
        "    row.append(decode(solution.x,coalition_values))\n",
        "    print(f', Time taken = {time.time()-start_time}')\n",
        "    row.append(decode(list(solve_BILP_classical(coalition_values)),coalition_values))     #Calculating classical solution\n",
        "    table_contents.append(row)"
      ],
      "metadata": {
        "colab": {
          "base_uri": "https://localhost:8080/"
        },
        "id": "VTUMvUXO93NH",
        "outputId": "b74a7700-d332-4c90-eec6-910f7b46cacc"
      },
      "execution_count": 174,
      "outputs": [
        {
          "output_type": "stream",
          "name": "stdout",
          "text": [
            "Executing RANDOM distribution for 2 agents, Time taken = 0.4933810234069824\n",
            "Executing RANDOM distribution for 3 agents, Time taken = 2.982795000076294\n",
            "Executing NORMAL distribution for 2 agents, Time taken = 0.7419557571411133\n",
            "Executing NORMAL distribution for 3 agents, Time taken = 3.646982192993164\n"
          ]
        }
      ]
    },
    {
      "cell_type": "code",
      "source": [
        "#view output table\n",
        "\n",
        "pd.DataFrame(table_contents, columns=table_headers)"
      ],
      "metadata": {
        "colab": {
          "base_uri": "https://localhost:8080/",
          "height": 174
        },
        "id": "ttIbGAvcZ5-I",
        "outputId": "18bed801-56c3-4cc1-ee31-071fde922818"
      },
      "execution_count": 175,
      "outputs": [
        {
          "output_type": "execute_result",
          "data": {
            "text/html": [
              "\n",
              "  <div id=\"df-78e357df-428b-4068-9cdb-95ba084bbf57\">\n",
              "    <div class=\"colab-df-container\">\n",
              "      <div>\n",
              "<style scoped>\n",
              "    .dataframe tbody tr th:only-of-type {\n",
              "        vertical-align: middle;\n",
              "    }\n",
              "\n",
              "    .dataframe tbody tr th {\n",
              "        vertical-align: top;\n",
              "    }\n",
              "\n",
              "    .dataframe thead th {\n",
              "        text-align: right;\n",
              "    }\n",
              "</style>\n",
              "<table border=\"1\" class=\"dataframe\">\n",
              "  <thead>\n",
              "    <tr style=\"text-align: right;\">\n",
              "      <th></th>\n",
              "      <th>Distribution</th>\n",
              "      <th>No. of Agents</th>\n",
              "      <th>Solution Function Value</th>\n",
              "      <th>Solution Binary String</th>\n",
              "      <th>QAOA Solution</th>\n",
              "      <th>True Solution (Classical)</th>\n",
              "    </tr>\n",
              "  </thead>\n",
              "  <tbody>\n",
              "    <tr>\n",
              "      <th>0</th>\n",
              "      <td>RANDOM</td>\n",
              "      <td>2</td>\n",
              "      <td>179.0</td>\n",
              "      <td>[1, 1, 0]</td>\n",
              "      <td>[{1}, {2}]</td>\n",
              "      <td>[{1}, {2}]</td>\n",
              "    </tr>\n",
              "    <tr>\n",
              "      <th>1</th>\n",
              "      <td>RANDOM</td>\n",
              "      <td>3</td>\n",
              "      <td>245.0</td>\n",
              "      <td>[0, 0, 0, 0, 0, 0, 1]</td>\n",
              "      <td>[{3, 1, 2}]</td>\n",
              "      <td>[{3, 1, 2}]</td>\n",
              "    </tr>\n",
              "    <tr>\n",
              "      <th>2</th>\n",
              "      <td>NORMAL</td>\n",
              "      <td>2</td>\n",
              "      <td>190.0</td>\n",
              "      <td>[1, 1, 0]</td>\n",
              "      <td>[{1}, {2}]</td>\n",
              "      <td>[{1}, {2}]</td>\n",
              "    </tr>\n",
              "    <tr>\n",
              "      <th>3</th>\n",
              "      <td>NORMAL</td>\n",
              "      <td>3</td>\n",
              "      <td>259.0</td>\n",
              "      <td>[1, 0, 0, 0, 0, 1, 0]</td>\n",
              "      <td>[{1}, {3, 2}]</td>\n",
              "      <td>[{1}, {3, 2}]</td>\n",
              "    </tr>\n",
              "  </tbody>\n",
              "</table>\n",
              "</div>\n",
              "      <button class=\"colab-df-convert\" onclick=\"convertToInteractive('df-78e357df-428b-4068-9cdb-95ba084bbf57')\"\n",
              "              title=\"Convert this dataframe to an interactive table.\"\n",
              "              style=\"display:none;\">\n",
              "        \n",
              "  <svg xmlns=\"http://www.w3.org/2000/svg\" height=\"24px\"viewBox=\"0 0 24 24\"\n",
              "       width=\"24px\">\n",
              "    <path d=\"M0 0h24v24H0V0z\" fill=\"none\"/>\n",
              "    <path d=\"M18.56 5.44l.94 2.06.94-2.06 2.06-.94-2.06-.94-.94-2.06-.94 2.06-2.06.94zm-11 1L8.5 8.5l.94-2.06 2.06-.94-2.06-.94L8.5 2.5l-.94 2.06-2.06.94zm10 10l.94 2.06.94-2.06 2.06-.94-2.06-.94-.94-2.06-.94 2.06-2.06.94z\"/><path d=\"M17.41 7.96l-1.37-1.37c-.4-.4-.92-.59-1.43-.59-.52 0-1.04.2-1.43.59L10.3 9.45l-7.72 7.72c-.78.78-.78 2.05 0 2.83L4 21.41c.39.39.9.59 1.41.59.51 0 1.02-.2 1.41-.59l7.78-7.78 2.81-2.81c.8-.78.8-2.07 0-2.86zM5.41 20L4 18.59l7.72-7.72 1.47 1.35L5.41 20z\"/>\n",
              "  </svg>\n",
              "      </button>\n",
              "      \n",
              "  <style>\n",
              "    .colab-df-container {\n",
              "      display:flex;\n",
              "      flex-wrap:wrap;\n",
              "      gap: 12px;\n",
              "    }\n",
              "\n",
              "    .colab-df-convert {\n",
              "      background-color: #E8F0FE;\n",
              "      border: none;\n",
              "      border-radius: 50%;\n",
              "      cursor: pointer;\n",
              "      display: none;\n",
              "      fill: #1967D2;\n",
              "      height: 32px;\n",
              "      padding: 0 0 0 0;\n",
              "      width: 32px;\n",
              "    }\n",
              "\n",
              "    .colab-df-convert:hover {\n",
              "      background-color: #E2EBFA;\n",
              "      box-shadow: 0px 1px 2px rgba(60, 64, 67, 0.3), 0px 1px 3px 1px rgba(60, 64, 67, 0.15);\n",
              "      fill: #174EA6;\n",
              "    }\n",
              "\n",
              "    [theme=dark] .colab-df-convert {\n",
              "      background-color: #3B4455;\n",
              "      fill: #D2E3FC;\n",
              "    }\n",
              "\n",
              "    [theme=dark] .colab-df-convert:hover {\n",
              "      background-color: #434B5C;\n",
              "      box-shadow: 0px 1px 3px 1px rgba(0, 0, 0, 0.15);\n",
              "      filter: drop-shadow(0px 1px 2px rgba(0, 0, 0, 0.3));\n",
              "      fill: #FFFFFF;\n",
              "    }\n",
              "  </style>\n",
              "\n",
              "      <script>\n",
              "        const buttonEl =\n",
              "          document.querySelector('#df-78e357df-428b-4068-9cdb-95ba084bbf57 button.colab-df-convert');\n",
              "        buttonEl.style.display =\n",
              "          google.colab.kernel.accessAllowed ? 'block' : 'none';\n",
              "\n",
              "        async function convertToInteractive(key) {\n",
              "          const element = document.querySelector('#df-78e357df-428b-4068-9cdb-95ba084bbf57');\n",
              "          const dataTable =\n",
              "            await google.colab.kernel.invokeFunction('convertToInteractive',\n",
              "                                                     [key], {});\n",
              "          if (!dataTable) return;\n",
              "\n",
              "          const docLinkHtml = 'Like what you see? Visit the ' +\n",
              "            '<a target=\"_blank\" href=https://colab.research.google.com/notebooks/data_table.ipynb>data table notebook</a>'\n",
              "            + ' to learn more about interactive tables.';\n",
              "          element.innerHTML = '';\n",
              "          dataTable['output_type'] = 'display_data';\n",
              "          await google.colab.output.renderOutput(dataTable, element);\n",
              "          const docLink = document.createElement('div');\n",
              "          docLink.innerHTML = docLinkHtml;\n",
              "          element.appendChild(docLink);\n",
              "        }\n",
              "      </script>\n",
              "    </div>\n",
              "  </div>\n",
              "  "
            ],
            "text/plain": [
              "  Distribution  No. of Agents  ...  QAOA Solution True Solution (Classical)\n",
              "0       RANDOM              2  ...     [{1}, {2}]                [{1}, {2}]\n",
              "1       RANDOM              3  ...    [{3, 1, 2}]               [{3, 1, 2}]\n",
              "2       NORMAL              2  ...     [{1}, {2}]                [{1}, {2}]\n",
              "3       NORMAL              3  ...  [{1}, {3, 2}]             [{1}, {3, 2}]\n",
              "\n",
              "[4 rows x 6 columns]"
            ]
          },
          "metadata": {},
          "execution_count": 175
        }
      ]
    },
    {
      "cell_type": "code",
      "source": [
        ""
      ],
      "metadata": {
        "id": "V8_H_ygad9yy"
      },
      "execution_count": null,
      "outputs": []
    },
    {
      "cell_type": "code",
      "metadata": {
        "id": "7WDnu7OH6qND"
      },
      "source": [
        "#Classical BILP solver     2,3,4,5(takes a lot of time)\n",
        "\n",
        "#Classical QUBO solver     2,3,4,5(resource overflow)gith\n",
        "\n",
        "#QAOA QUBO solver          2,3,4(15 qubits)(resource overflow),5(31 qubits)(resource overflow)"
      ],
      "execution_count": 6,
      "outputs": []
    }
  ]
}