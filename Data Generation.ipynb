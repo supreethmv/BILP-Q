{
 "cells": [
  {
   "cell_type": "code",
   "execution_count": null,
   "id": "0767a59e",
   "metadata": {},
   "outputs": [],
   "source": [
    "from Utils import *\n",
    "from Utils_CSG import *\n",
    "from Utils_Solvers import *"
   ]
  },
  {
   "cell_type": "code",
   "execution_count": null,
   "id": "7d456a1c",
   "metadata": {},
   "outputs": [],
   "source": [
    "directory = 'Data'\n",
    "filename = 'test.txt'\n",
    "create_dir(directory, log=False)\n",
    "\n",
    "distributions = [Agent_based_uniform, Agent_based_normal, Modified_uniform_distribution,\n",
    "                 Normal_distribution, SVA_BETA_distribution, Weibull_distribution, Rayleigh_distribution,\n",
    "                 Weighted_random_with_chisquare, F_distribution,Laplace_or_double_exponential]\n",
    "n_agents = [2,3,4,5,6,7]\n",
    "\n",
    "\n",
    "for distribution in distributions:\n",
    "\n",
    "    for n in n_agents:\n",
    "\n",
    "    coalition_values, linear, quadratic = get_linear_quads(distribution, n, 10**n )\n",
    "    \n",
    "#     file = os.path.join(directory, filename)\n",
    "#     file.write(str(distributions[Datadistribution-1]))\n",
    "#     file.write(\" \")\n",
    "#     file.write(str(NumAgent))\n",
    "#     file.write(\" \")\n",
    "\n",
    "#     totalcoal = 2 ** NumAgent\n",
    "#     y = 1\n",
    "\n",
    "#     Agents = list(range(1, NumAgent + 1))\n",
    "#     RealAgent = Agents[0:NumAgent]\n",
    "#     Power = {}\n",
    "#     for i in RealAgent:\n",
    "#         Power[i] = np.random.uniform(0, 10)\n",
    "\n",
    "#     while (y < totalcoal):\n",
    "#         sums = float(\"{0:.3f}\".format(dataset(Datadistribution,y,Power,NumAgent)))\n",
    "#         file.write(str(sums))\n",
    "#         file.write(\" \")\n",
    "#         y = y + 1\n",
    "#         file.write(\"\\n\")\n",
    "#         file.close()\n",
    "            \n",
    "            "
   ]
  }
 ],
 "metadata": {
  "kernelspec": {
   "display_name": "Python 3 (ipykernel)",
   "language": "python",
   "name": "python3"
  },
  "language_info": {
   "codemirror_mode": {
    "name": "ipython",
    "version": 3
   },
   "file_extension": ".py",
   "mimetype": "text/x-python",
   "name": "python",
   "nbconvert_exporter": "python",
   "pygments_lexer": "ipython3",
   "version": "3.8.10"
  }
 },
 "nbformat": 4,
 "nbformat_minor": 5
}
