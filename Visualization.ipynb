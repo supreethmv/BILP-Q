{
 "cells": [
  {
   "cell_type": "code",
   "execution_count": 1,
   "id": "0064a0fc",
   "metadata": {},
   "outputs": [],
   "source": [
    "import matplotlib.pyplot as plt\n",
    "import numpy as np"
   ]
  },
  {
   "cell_type": "code",
   "execution_count": 2,
   "id": "a47c253e",
   "metadata": {},
   "outputs": [],
   "source": [
    "# def find_N(n):\n",
    "#     \"\"\" Find the datasize for which the HHL is more convenient wrt the Conjugate Gradient,\n",
    "#         according to Lambert W solution\"\"\"\n",
    "#     from scipy.special import lambertw\n",
    "#     import numpy as np\n",
    "#     w = lambertw(- np.log(2) / ((3*(2**n - 1) * (2**n - 1 - 1) +2*(2**n - 1))), k=-1)\n",
    "#     return (- ((3*(2**n - 1) * (2**n - 1 - 1) +2*(2**n - 1))) * w / np.log(2))"
   ]
  },
  {
   "cell_type": "code",
   "execution_count": 4,
   "id": "b5b99dac",
   "metadata": {},
   "outputs": [],
   "source": [
    "n_max = 30\n",
    "n=np.arange(1,n_max)"
   ]
  },
  {
   "cell_type": "code",
   "execution_count": 45,
   "id": "1ae7a058",
   "metadata": {},
   "outputs": [],
   "source": [
    "# # cost_hhl_up = (np.log2(N))*(k**pow_k)*(N**pow_s)\n",
    "# # cost_hhl_dw = (np.log2(N))*(k**pow_k)*(s_dw**pow_s)\n",
    "# cost_bilp = 2**(2**n)\n",
    "# cost_IP = n**n\n",
    "# cost_IDP = 3**n\n",
    "\n",
    "# p_max = 100\n",
    "# p_min = 1\n",
    "\n",
    "\n",
    "# bilpQ = p_min*(3*(2**n - 1) * (2**n - 1 - 1) +2*(2**n - 1))\n",
    "# up_bilpQ = p_max*(3*(2**n - 1) * (2**n - 1 -(n-1)) +2*(2**n - 1))"
   ]
  },
  {
   "cell_type": "code",
   "execution_count": 22,
   "id": "dd676f3d",
   "metadata": {},
   "outputs": [],
   "source": [
    "# cost_hhl_up = (np.log2(N))*(k**pow_k)*(N**pow_s)\n",
    "# cost_hhl_dw = (np.log2(N))*(k**pow_k)*(s_dw**pow_s)\n",
    "cost_bilp = 2**(2**n)\n",
    "cost_IP = n**n\n",
    "cost_IDP = 3**n\n",
    "\n",
    "int_max = 2**n - 1 - 1\n",
    "int_min =  1\n",
    "\n",
    "\n",
    "bilpQ = 3*(2**n - 1) * (int_min) +2*(2**n - 1)\n",
    "up_bilpQ = 100*(3*(2**n - 1) * (int_max) +2*(2**n - 1))"
   ]
  },
  {
   "cell_type": "code",
   "execution_count": 23,
   "id": "163c9cb8",
   "metadata": {},
   "outputs": [
    {
     "name": "stderr",
     "output_type": "stream",
     "text": [
      "/tmp/ipykernel_3415/3010533939.py:2: RuntimeWarning: invalid value encountered in log2\n",
      "  up_bilpQ = np.log2(up_bilpQ)\n",
      "/tmp/ipykernel_3415/3010533939.py:4: RuntimeWarning: divide by zero encountered in log2\n",
      "  cost_IP = np.log2(cost_IP)\n",
      "/tmp/ipykernel_3415/3010533939.py:4: RuntimeWarning: invalid value encountered in log2\n",
      "  cost_IP = np.log2(cost_IP)\n"
     ]
    }
   ],
   "source": [
    "cost_bilp = 2**n #np.log10(cost_bilp) \n",
    "up_bilpQ = np.log2(up_bilpQ)\n",
    "bilpQ = np.log2(bilpQ)\n",
    "cost_IP = np.log2(cost_IP)\n",
    "cost_IDP = np.log2(cost_IDP)"
   ]
  },
  {
   "cell_type": "code",
   "execution_count": 20,
   "id": "580ede83",
   "metadata": {},
   "outputs": [
    {
     "name": "stdout",
     "output_type": "stream",
     "text": [
      "[ 1.5849625   3.169925    4.7548875   6.33985     7.9248125   9.509775\n",
      " 11.09473751 12.67970001 14.26466251 15.84962501 17.43458751 19.01955001\n",
      " 20.60451251 22.18947501 23.77443751 25.35940001 26.94436251 28.52932501\n",
      " 30.11428751 31.69925001 33.28421252 34.86917502 36.45413752 38.03910002\n",
      " 39.62406252 41.20902502 42.79398752 44.37895002 45.96391252]\n",
      "[ 2.32192809  3.9068906   5.12928302  6.22881869  7.27612441  8.29920802\n",
      "  9.31061278 10.31628153 11.31910758 12.32051852 13.32122348 14.32157583\n",
      " 15.32175197 16.32184004 17.32188407 18.32190608 19.32191709 20.32192259\n",
      " 21.32192534 22.32192672 23.32192741 24.32192775 25.32192792 26.32192801\n",
      " 27.32192805 28.32192807 29.32192808 30.32192809 31.32192809]\n"
     ]
    }
   ],
   "source": [
    "print(cost_IDP)\n",
    "print(bilpQ)"
   ]
  },
  {
   "cell_type": "code",
   "execution_count": 24,
   "id": "390ef299",
   "metadata": {},
   "outputs": [
    {
     "data": {
      "image/png": "[encoded data removed]",
      "text/plain": [
       "<Figure size 432x252 with 1 Axes>"
      ]
     },
     "metadata": {
      "needs_background": "light"
     },
     "output_type": "display_data"
    }
   ],
   "source": [
    "#plt.tight_layout()\n",
    "plt.figure(figsize=(6,3.5))\n",
    "plt.fill_between(n, bilpQ, up_bilpQ, color = 'lightblue',\n",
    "                     label = 'BILP - Q', alpha = 0.3  )\n",
    "#plt.plot(n, cost_IP, label = 'IP', color='blue', linestyle = 'dotted')\n",
    "plt.plot(n, cost_IDP, label = 'IDP', color='deepskyblue', linestyle = 'dotted')\n",
    "#plt.scatter(n, bilpQ, label = 'BILP', color='limegreen', marker='+', s=15 )\n",
    "\n",
    "plt.xlabel(r'System size $(n)$')\n",
    "plt.ylabel(r'Cost Complexity - $log_{2} (n°steps)$')\n",
    "# plt.xlim(-1, 80)\n",
    "# plt.ylim(-1, 500)\n",
    "plt.grid(alpha=0.3)\n",
    "#plt.ticklabel_format(style='sci', axis='y', scilimits=(0,0))\n",
    "#plt.axvline(treshold, color = 'lightgrey', linestyle = (0, (3, 5, 1, 5)))\n",
    "# Put a legend below current axis\n",
    "plt.legend(loc='lower center', bbox_to_anchor=(0.5, -0.4), ncol =3, fontsize=10)\n",
    "plt.xticks([1, 3, 5 , 7, 9, 11, 13, 15,], ha='left')\n",
    "#plt.tick_params(labelsize=12)\n",
    "# plt.text(81, 95, r'$s = 1$', color='grey')\n",
    "# plt.text(81, 220, r'$s = 3$', color='grey')\n",
    "# plt.text(6, 510, r'$s = n$', color='grey')\n",
    "# plt.text(treshold-2, -30, \"{}\".format(int(treshold)), color = 'grey')\n",
    "#plt.yscale('log')\n",
    "# plt.savefig('results/complexity.png', bbox_inches='tight', dpi =400)\n",
    "plt.show()\n",
    "# plt.close()"
   ]
  }
 ],
 "metadata": {
  "kernelspec": {
   "display_name": "Python 3 (ipykernel)",
   "language": "python",
   "name": "python3"
  },
  "language_info": {
   "codemirror_mode": {
    "name": "ipython",
    "version": 3
   },
   "file_extension": ".py",
   "mimetype": "text/x-python",
   "name": "python",
   "nbconvert_exporter": "python",
   "pygments_lexer": "ipython3",
   "version": "3.8.10"
  }
 },
 "nbformat": 4,
 "nbformat_minor": 5
}
