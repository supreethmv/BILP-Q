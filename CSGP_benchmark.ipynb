{
 "cells": [
  {
   "cell_type": "code",
   "execution_count": 1,
   "id": "0064a0fc",
   "metadata": {},
   "outputs": [],
   "source": [
    "from Utils import *\n",
    "from Utils_Solvers import *\n",
    "from Utils_CSG import *"
   ]
  },
  {
   "cell_type": "code",
   "execution_count": 2,
   "id": "eb9a75f2",
   "metadata": {},
   "outputs": [],
   "source": [
    "def running_dwave(linear, quadratic, exact_solution, colnames):\n",
    "    print('running dwave ...')\n",
    "    sample_set_dwave = dwave_solver(linear, quadratic)\n",
    "    solution, fval, prob, rank, time = results_from_dwave(sample_set_dwave)\n",
    "    flag = exact_solution == solution\n",
    "    row = pd.Series([distr, n, solution, 'None', fval, prob, \n",
    "                     rank, time, 'dwave', flag], index = colnames)\n",
    "    return row"
   ]
  },
  {
   "cell_type": "code",
   "execution_count": 3,
   "id": "9991cd1a",
   "metadata": {},
   "outputs": [],
   "source": [
    "def running_dwave_exact(linear, quadratic, exact_solution, colnames):\n",
    "    print('running exact dwave ...')\n",
    "    sample_set_exact = exact_solver(linear, quadratic)\n",
    "    solution, fval, prob, rank, time = results_from_dwave(sample_set_exact, exact=True)\n",
    "    flag = exact_solution==solution\n",
    "    row = pd.Series([distr, n, solution, 'None', fval, prob, \n",
    "                     rank, time, 'exact dwave', flag], index = colnames)\n",
    "    return row"
   ]
  },
  {
   "cell_type": "code",
   "execution_count": 4,
   "id": "7fbc868f",
   "metadata": {},
   "outputs": [],
   "source": [
    "def running_QAOA(linear, quadratic, exact_solution, colnames):\n",
    "    qaoa_result, p, init, _ = QAOA_optimization(linear, quadratic, n_init=3, p_list=np.arange(1,20))    \n",
    "    solution, fval, prob, rank, time = results_from_QAOA(qaoa_result)\n",
    "    flag = exact_solution == solution\n",
    "    row = pd.Series([distr, n, solution, p, fval, prob, \n",
    "                     rank, time, 'QAOA', flag], index = colnames)\n",
    "    return row, qaoa_result, p, init"
   ]
  },
  {
   "cell_type": "code",
   "execution_count": 5,
   "id": "8dd6937f",
   "metadata": {},
   "outputs": [
    {
     "name": "stdout",
     "output_type": "stream",
     "text": [
      "The directory QAOA_metadata/Agent_based_uniform/n_2  already exists\n",
      "coalition_values: {'1': 1.677, '2': 9.772, '1,2': 10.749} \n",
      " linear: OrderedDict([('x_0', -51.67700000000001), ('x_1', -59.772000000000006), ('x_2', -110.749)]) \n",
      " quadratic: {('x_0', 'x_2'): 100.0, ('x_1', 'x_2'): 100.0}\n",
      "The directory QAOA_metadata/Agent_based_uniform/n_3 does not exist and will be created\n",
      "coalition_values: {'1': 3.008, '2': 9.705, '1,2': 4.451, '3': 7.02, '1,3': 11.743, '2,3': 9.366, '1,2,3': 16.269} \n",
      " linear: OrderedDict([('x_0', -53.007999999999996), ('x_1', -59.705), ('x_2', -104.451), ('x_3', -57.019999999999996), ('x_4', -111.743), ('x_5', -109.36600000000001), ('x_6', -166.269)]) \n",
      " quadratic: {('x_2', 'x_6'): 200.0, ('x_4', 'x_6'): 200.0, ('x_5', 'x_6'): 200.0, ('x_0', 'x_2'): 100.0, ('x_0', 'x_4'): 100.0, ('x_0', 'x_6'): 100.0, ('x_1', 'x_2'): 100.0, ('x_1', 'x_5'): 100.0, ('x_1', 'x_6'): 100.0, ('x_2', 'x_4'): 100.0, ('x_2', 'x_5'): 100.0, ('x_3', 'x_4'): 100.0, ('x_3', 'x_5'): 100.0, ('x_3', 'x_6'): 100.0, ('x_4', 'x_5'): 100.0}\n",
      "The directory QAOA_metadata/Agent_based_normal/n_2  already exists\n",
      "coalition_values: {'1': 1.93, '2': 6.218, '1,2': 8.138} \n",
      " linear: OrderedDict([('x_0', -51.93000000000001), ('x_1', -56.218), ('x_2', -108.138)]) \n",
      " quadratic: {('x_0', 'x_2'): 100.0, ('x_1', 'x_2'): 100.0}\n",
      "The directory QAOA_metadata/Agent_based_normal/n_3 does not exist and will be created\n",
      "coalition_values: {'1': 1.922, '2': 6.228, '1,2': 8.117, '3': 4.374, '1,3': 6.321, '2,3': 10.59, '1,2,3': 12.558} \n",
      " linear: OrderedDict([('x_0', -51.922), ('x_1', -56.227999999999994), ('x_2', -108.11699999999999), ('x_3', -54.373999999999995), ('x_4', -106.321), ('x_5', -110.59), ('x_6', -162.558)]) \n",
      " quadratic: {('x_2', 'x_6'): 200.0, ('x_4', 'x_6'): 200.0, ('x_5', 'x_6'): 200.0, ('x_0', 'x_2'): 100.0, ('x_0', 'x_4'): 100.0, ('x_0', 'x_6'): 100.0, ('x_1', 'x_2'): 100.0, ('x_1', 'x_5'): 100.0, ('x_1', 'x_6'): 100.0, ('x_2', 'x_4'): 100.0, ('x_2', 'x_5'): 100.0, ('x_3', 'x_4'): 100.0, ('x_3', 'x_5'): 100.0, ('x_3', 'x_6'): 100.0, ('x_4', 'x_5'): 100.0}\n",
      "The directory QAOA_metadata/Modified_uniform_distribution/n_2  already exists\n",
      "coalition_values: {'1': 4.377, '2': 21.429, '1,2': 5.529} \n",
      " linear: OrderedDict([('x_0', -54.376999999999995), ('x_1', -71.429), ('x_2', -105.529)]) \n",
      " quadratic: {('x_0', 'x_2'): 100.0, ('x_1', 'x_2'): 100.0}\n",
      "The directory QAOA_metadata/Modified_uniform_distribution/n_3 does not exist and will be created\n",
      "coalition_values: {'1': 7.854, '2': 16.549, '1,2': 16.037, '3': 26.65, '1,3': 10.02, '2,3': 32.767, '1,2,3': 16.836} \n",
      " linear: OrderedDict([('x_0', -57.854), ('x_1', -66.549), ('x_2', -116.037), ('x_3', -76.65), ('x_4', -110.02000000000001), ('x_5', -132.767), ('x_6', -166.836)]) \n",
      " quadratic: {('x_2', 'x_6'): 200.0, ('x_4', 'x_6'): 200.0, ('x_5', 'x_6'): 200.0, ('x_0', 'x_2'): 100.0, ('x_0', 'x_4'): 100.0, ('x_0', 'x_6'): 100.0, ('x_1', 'x_2'): 100.0, ('x_1', 'x_5'): 100.0, ('x_1', 'x_6'): 100.0, ('x_2', 'x_4'): 100.0, ('x_2', 'x_5'): 100.0, ('x_3', 'x_4'): 100.0, ('x_3', 'x_5'): 100.0, ('x_3', 'x_6'): 100.0, ('x_4', 'x_5'): 100.0}\n",
      "The directory QAOA_metadata/Normal_distribution/n_2  already exists\n",
      "coalition_values: {'1': 10.014, '2': 9.997, '1,2': 19.993} \n",
      " linear: OrderedDict([('x_0', -60.013999999999996), ('x_1', -59.997), ('x_2', -119.993)]) \n",
      " quadratic: {('x_0', 'x_2'): 100.0, ('x_1', 'x_2'): 100.0}\n",
      "The directory QAOA_metadata/Normal_distribution/n_3 does not exist and will be created\n",
      "coalition_values: {'1': 10.007, '2': 10.007, '1,2': 19.991, '3': 9.99, '1,3': 19.997, '2,3': 20.009, '1,2,3': 30.02} \n",
      " linear: OrderedDict([('x_0', -60.007000000000005), ('x_1', -60.007000000000005), ('x_2', -119.99100000000001), ('x_3', -59.989999999999995), ('x_4', -119.99700000000001), ('x_5', -120.00899999999999), ('x_6', -180.01999999999998)]) \n",
      " quadratic: {('x_2', 'x_6'): 200.0, ('x_4', 'x_6'): 200.0, ('x_5', 'x_6'): 200.0, ('x_0', 'x_2'): 100.0, ('x_0', 'x_4'): 100.0, ('x_0', 'x_6'): 100.0, ('x_1', 'x_2'): 100.0, ('x_1', 'x_5'): 100.0, ('x_1', 'x_6'): 100.0, ('x_2', 'x_4'): 100.0, ('x_2', 'x_5'): 100.0, ('x_3', 'x_4'): 100.0, ('x_3', 'x_5'): 100.0, ('x_3', 'x_6'): 100.0, ('x_4', 'x_5'): 100.0}\n",
      "The directory QAOA_metadata/SVA_BETA_distribution/n_2  already exists\n",
      "coalition_values: {'1': 200.237, '2': 0.891, '1,2': 200.212} \n",
      " linear: OrderedDict([('x_0', -250.23700000000002), ('x_1', -50.891000000000005), ('x_2', -300.212)]) \n",
      " quadratic: {('x_0', 'x_2'): 100.0, ('x_1', 'x_2'): 100.0}\n",
      "The directory QAOA_metadata/SVA_BETA_distribution/n_3 does not exist and will be created\n",
      "coalition_values: {'1': 200.493, '2': 0.857, '1,2': 200.699, '3': 0.787, '1,3': 201.109, '2,3': 0.001, '1,2,3': 202.562} \n",
      " linear: OrderedDict([('x_0', -250.493), ('x_1', -50.857), ('x_2', -300.699), ('x_3', -50.787000000000006), ('x_4', -301.109), ('x_5', -100.001), ('x_6', -352.562)]) \n",
      " quadratic: {('x_2', 'x_6'): 200.0, ('x_4', 'x_6'): 200.0, ('x_5', 'x_6'): 200.0, ('x_0', 'x_2'): 100.0, ('x_0', 'x_4'): 100.0, ('x_0', 'x_6'): 100.0, ('x_1', 'x_2'): 100.0, ('x_1', 'x_5'): 100.0, ('x_1', 'x_6'): 100.0, ('x_2', 'x_4'): 100.0, ('x_2', 'x_5'): 100.0, ('x_3', 'x_4'): 100.0, ('x_3', 'x_5'): 100.0, ('x_3', 'x_6'): 100.0, ('x_4', 'x_5'): 100.0}\n",
      "The directory QAOA_metadata/Weibull_distribution/n_2  already exists\n",
      "coalition_values: {'1': 0.576, '2': 1.539, '1,2': 1.109} \n",
      " linear: OrderedDict([('x_0', -50.57599999999999), ('x_1', -51.539), ('x_2', -101.10900000000001)]) \n",
      " quadratic: {('x_0', 'x_2'): 100.0, ('x_1', 'x_2'): 100.0}\n",
      "The directory QAOA_metadata/Weibull_distribution/n_3 does not exist and will be created\n",
      "coalition_values: {'1': 1.539, '2': 1.514, '1,2': 0.751, '3': 0.324, '1,3': 1.128, '2,3': 1.335, '1,2,3': 1.085} \n",
      " linear: OrderedDict([('x_0', -51.539), ('x_1', -51.513999999999996), ('x_2', -100.751), ('x_3', -50.324), ('x_4', -101.12799999999999), ('x_5', -101.33500000000001), ('x_6', -151.08499999999998)]) \n",
      " quadratic: {('x_2', 'x_6'): 200.0, ('x_4', 'x_6'): 200.0, ('x_5', 'x_6'): 200.0, ('x_0', 'x_2'): 100.0, ('x_0', 'x_4'): 100.0, ('x_0', 'x_6'): 100.0, ('x_1', 'x_2'): 100.0, ('x_1', 'x_5'): 100.0, ('x_1', 'x_6'): 100.0, ('x_2', 'x_4'): 100.0, ('x_2', 'x_5'): 100.0, ('x_3', 'x_4'): 100.0, ('x_3', 'x_5'): 100.0, ('x_3', 'x_6'): 100.0, ('x_4', 'x_5'): 100.0}\n",
      "The directory QAOA_metadata/Rayleigh_distribution/n_2  already exists\n",
      "coalition_values: {'1': 8.562, '2': 13.997, '1,2': 27.768} \n",
      " linear: OrderedDict([('x_0', -58.562), ('x_1', -63.997), ('x_2', -127.768)]) \n",
      " quadratic: {('x_0', 'x_2'): 100.0, ('x_1', 'x_2'): 100.0}\n",
      "The directory QAOA_metadata/Rayleigh_distribution/n_3 does not exist and will be created\n",
      "coalition_values: {'1': 13.997, '2': 13.884, '1,2': 12.732, '3': 6.419, '1,3': 28.714, '2,3': 40.202, '1,2,3': 48.902} \n",
      " linear: OrderedDict([('x_0', -63.997), ('x_1', -63.884), ('x_2', -112.732), ('x_3', -56.419), ('x_4', -128.714), ('x_5', -140.202), ('x_6', -198.902)]) \n",
      " quadratic: {('x_2', 'x_6'): 200.0, ('x_4', 'x_6'): 200.0, ('x_5', 'x_6'): 200.0, ('x_0', 'x_2'): 100.0, ('x_0', 'x_4'): 100.0, ('x_0', 'x_6'): 100.0, ('x_1', 'x_2'): 100.0, ('x_1', 'x_5'): 100.0, ('x_1', 'x_6'): 100.0, ('x_2', 'x_4'): 100.0, ('x_2', 'x_5'): 100.0, ('x_3', 'x_4'): 100.0, ('x_3', 'x_5'): 100.0, ('x_3', 'x_6'): 100.0, ('x_4', 'x_5'): 100.0}\n",
      "The directory QAOA_metadata/Weighted_random_with_chisquare/n_2  already exists\n",
      "coalition_values: {'1': 1.383, '2': 2.658, '1,2': 2.294} \n",
      " linear: OrderedDict([('x_0', -51.382999999999996), ('x_1', -52.658), ('x_2', -102.29400000000001)]) \n",
      " quadratic: {('x_0', 'x_2'): 100.0, ('x_1', 'x_2'): 100.0}\n",
      "The directory QAOA_metadata/Weighted_random_with_chisquare/n_3 does not exist and will be created\n",
      "coalition_values: {'1': 2.703, '2': 1.149, '1,2': 7.475, '3': 7.056, '1,3': 2.772, '2,3': 4.781, '1,2,3': 18.411} \n",
      " linear: OrderedDict([('x_0', -52.703), ('x_1', -51.149), ('x_2', -107.475), ('x_3', -57.056), ('x_4', -102.77199999999999), ('x_5', -104.781), ('x_6', -168.411)]) \n",
      " quadratic: {('x_2', 'x_6'): 200.0, ('x_4', 'x_6'): 200.0, ('x_5', 'x_6'): 200.0, ('x_0', 'x_2'): 100.0, ('x_0', 'x_4'): 100.0, ('x_0', 'x_6'): 100.0, ('x_1', 'x_2'): 100.0, ('x_1', 'x_5'): 100.0, ('x_1', 'x_6'): 100.0, ('x_2', 'x_4'): 100.0, ('x_2', 'x_5'): 100.0, ('x_3', 'x_4'): 100.0, ('x_3', 'x_5'): 100.0, ('x_3', 'x_6'): 100.0, ('x_4', 'x_5'): 100.0}\n",
      "The directory QAOA_metadata/F_distribution/n_2  already exists\n",
      "coalition_values: {'1': 0.253, '2': 0.092, '1,2': 7.674} \n",
      " linear: OrderedDict([('x_0', -50.253), ('x_1', -50.092), ('x_2', -107.674)]) \n",
      " quadratic: {('x_0', 'x_2'): 100.0, ('x_1', 'x_2'): 100.0}\n",
      "The directory QAOA_metadata/F_distribution/n_3 does not exist and will be created\n"
     ]
    },
    {
     "name": "stdout",
     "output_type": "stream",
     "text": [
      "coalition_values: {'1': 5.351, '2': 0.048, '1,2': 0.87, '3': 0.392, '1,3': 0.0, '2,3': 0.416, '1,2,3': 1.938} \n",
      " linear: OrderedDict([('x_0', -55.351), ('x_1', -50.048), ('x_2', -100.87), ('x_3', -50.391999999999996), ('x_4', -100.0), ('x_5', -100.416), ('x_6', -151.938)]) \n",
      " quadratic: {('x_2', 'x_6'): 200.0, ('x_4', 'x_6'): 200.0, ('x_5', 'x_6'): 200.0, ('x_0', 'x_2'): 100.0, ('x_0', 'x_4'): 100.0, ('x_0', 'x_6'): 100.0, ('x_1', 'x_2'): 100.0, ('x_1', 'x_5'): 100.0, ('x_1', 'x_6'): 100.0, ('x_2', 'x_4'): 100.0, ('x_2', 'x_5'): 100.0, ('x_3', 'x_4'): 100.0, ('x_3', 'x_5'): 100.0, ('x_3', 'x_6'): 100.0, ('x_4', 'x_5'): 100.0}\n",
      "The directory QAOA_metadata/Laplace_or_double_exponential/n_2  already exists\n",
      "coalition_values: {'1': 9.987, '2': 10.085, '1,2': 20.082} \n",
      " linear: OrderedDict([('x_0', -59.986999999999995), ('x_1', -60.084999999999994), ('x_2', -120.082)]) \n",
      " quadratic: {('x_0', 'x_2'): 100.0, ('x_1', 'x_2'): 100.0}\n",
      "The directory QAOA_metadata/Laplace_or_double_exponential/n_3 does not exist and will be created\n",
      "coalition_values: {'1': 10.085, '2': 10.082, '1,2': 19.939, '3': 9.941, '1,3': 20.093, '2,3': 20.248, '1,2,3': 30.139} \n",
      " linear: OrderedDict([('x_0', -60.084999999999994), ('x_1', -60.081999999999994), ('x_2', -119.939), ('x_3', -59.941), ('x_4', -120.09299999999999), ('x_5', -120.24799999999999), ('x_6', -180.139)]) \n",
      " quadratic: {('x_2', 'x_6'): 200.0, ('x_4', 'x_6'): 200.0, ('x_5', 'x_6'): 200.0, ('x_0', 'x_2'): 100.0, ('x_0', 'x_4'): 100.0, ('x_0', 'x_6'): 100.0, ('x_1', 'x_2'): 100.0, ('x_1', 'x_5'): 100.0, ('x_1', 'x_6'): 100.0, ('x_2', 'x_4'): 100.0, ('x_2', 'x_5'): 100.0, ('x_3', 'x_4'): 100.0, ('x_3', 'x_5'): 100.0, ('x_3', 'x_6'): 100.0, ('x_4', 'x_5'): 100.0}\n"
     ]
    }
   ],
   "source": [
    "distributions = [Agent_based_uniform, Agent_based_normal, Modified_uniform_distribution, \n",
    "                 Normal_distribution, SVA_BETA_distribution, Weibull_distribution,\n",
    "                 Rayleigh_distribution,Weighted_random_with_chisquare, F_distribution, \n",
    "                 Laplace_or_double_exponential]\n",
    "n_agents = [2,3]\n",
    "\n",
    "\n",
    "root_folder = 'QAOA_metadata'\n",
    "filename = 'QAOA'\n",
    "\n",
    "\n",
    "colnames = [\"distribution\", \"n_agents\", \"solution\", \"p\", \"fval\", \"prob\", \"rank\", \"time\", \"device\", \"flag\"]\n",
    "\n",
    "\n",
    "df_complete = pd.DataFrame(columns = colnames)\n",
    "\n",
    "\n",
    "for distribution in distributions:\n",
    "\n",
    "    distr = distribution.__name__\n",
    "    \n",
    "    for n in n_agents:\n",
    "        \n",
    "        path = os.path.join(root_folder, distr, 'n_' + str(n))\n",
    "\n",
    "        create_dir(path)\n",
    "        \n",
    "        np.random.seed(seed=1234)\n",
    "        coalition_values, linear, quadratic = get_linear_quads(distribution,n)\n",
    "        linear = collections.OrderedDict(sorted(linear.items()))\n",
    "        \n",
    "        \n",
    "        exact_solution = list(map(np.float,list(solve_BILP_classical(coalition_values))))\n",
    "        print('coalition_values:', coalition_values, '\\n', \n",
    "        'linear:',linear, '\\n', \n",
    "        'quadratic:',quadratic)\n",
    "        # print('running QAOA ...', distribution.__name__, ' for ', n, 'agents')\n",
    "        \n",
    "\n",
    "        ### Dwave\n",
    "        #row = running_dwave(linear, quadratic, exact_solution, colnames)\n",
    "        # df_complete = df_complete.append(row, ignore_index=True)\n",
    "        \n",
    "        \n",
    "        ### Exact Dwave\n",
    "        #row = running_dwave_exact(linear, quadratic, exact_solution, colnames)\n",
    "        #df_complete = df_complete.append(row, ignore_index=True)\n",
    "        \n",
    "        \n",
    "        # QAOA\n",
    "#        row, qaoa_result, p, init = running_QAOA(linear, quadratic, exact_solution, colnames)\n",
    "#        df_complete = df_complete.append(row, ignore_index=True)\n",
    "        \n",
    "        # ----------------------------------------------------------------------- #\n",
    "        ## Save overall results\n",
    "#         df_complete.to_csv(os.path.join(root_folder, 'output.csv'), index=False)\n",
    "        \n",
    "#         ## Save within folder\n",
    "#         df, data_solution = ranking_results_QAOA(qaoa_result, exact_solution)\n",
    "#         df.to_csv(os.path.join(path, f'{filename}.csv'  ), index=False)\n",
    "\n",
    "#         with open(os.path.join(path, 'metadata.txt'), \"w\") as output:\n",
    "#             output.write(f'coalition_values: {coalition_values}    \\n')\n",
    "#             output.write(f'linear: {linear}    \\n')\n",
    "#             output.write(f'quadratic: {quadratic}    \\n')\n",
    "#             output.write(f'p:    {p}    \\n')\n",
    "#             output.write(f'init: {init} \\n')\n",
    "#             output.write(f'solution: {exact_solution} \\n')\n",
    "\n",
    "\n",
    "# df_complete.to_csv('output.csv', index=False)"
   ]
  },
  {
   "cell_type": "code",
   "execution_count": 6,
   "id": "bc1fd6f0",
   "metadata": {},
   "outputs": [],
   "source": [
    "# df_complete"
   ]
  },
  {
   "cell_type": "code",
   "execution_count": 7,
   "id": "8758789a",
   "metadata": {},
   "outputs": [],
   "source": [
    "# sample_set_dwave = dwave_solver(linear, quadratic)\n",
    "# sample_set_exact = exact_solver(linear, quadratic)"
   ]
  },
  {
   "cell_type": "code",
   "execution_count": 8,
   "id": "36158311",
   "metadata": {},
   "outputs": [],
   "source": [
    "# sample_set_dwave.info['timing']"
   ]
  },
  {
   "cell_type": "code",
   "execution_count": 9,
   "id": "8fc8202d",
   "metadata": {},
   "outputs": [],
   "source": [
    "# sample_set_exact.info"
   ]
  },
  {
   "cell_type": "code",
   "execution_count": 10,
   "id": "8187408f",
   "metadata": {},
   "outputs": [],
   "source": [
    "# row = pd.Series([distr, n, solution, p, fval, prob, rank, time, 'QAOA', flag], index = df.columns).to_list()\n",
    "# out = open('output.csv', 'w')\n",
    "\n",
    "# for el in row:\n",
    "#     out.write(el)\n",
    "# # out.write('\\n')\n",
    "# out.close()"
   ]
  },
  {
   "cell_type": "code",
   "execution_count": 11,
   "id": "1cd4656d",
   "metadata": {},
   "outputs": [
    {
     "data": {
      "text/html": [
       "<h3>Version Information</h3><table><tr><th>Qiskit Software</th><th>Version</th></tr><tr><td><code>qiskit-terra</code></td><td>0.19.1</td></tr><tr><td><code>qiskit-aer</code></td><td>0.10.1</td></tr><tr><td><code>qiskit-ignis</code></td><td>0.7.0</td></tr><tr><td><code>qiskit-ibmq-provider</code></td><td>0.18.3</td></tr><tr><td><code>qiskit-aqua</code></td><td>0.9.5</td></tr><tr><td><code>qiskit</code></td><td>0.34.0</td></tr><tr><td><code>qiskit-optimization</code></td><td>0.3.0</td></tr><tr><th>System information</th></tr><tr><td>Python version</td><td>3.8.10</td></tr><tr><td>Python compiler</td><td>GCC 9.3.0</td></tr><tr><td>Python build</td><td>default, Nov 26 2021 20:14:08</td></tr><tr><td>OS</td><td>Linux</td></tr><tr><td>CPUs</td><td>8</td></tr><tr><td>Memory (Gb)</td><td>31.35406494140625</td></tr><tr><td colspan='2'>Tue Jan 25 10:43:12 2022 CET</td></tr></table>"
      ],
      "text/plain": [
       "<IPython.core.display.HTML object>"
      ]
     },
     "metadata": {},
     "output_type": "display_data"
    },
    {
     "data": {
      "text/html": [
       "<div style='width: 100%; background-color:#d5d9e0;padding-left: 10px; padding-bottom: 10px; padding-right: 10px; padding-top: 5px'><h3>This code is a part of Qiskit</h3><p>&copy; Copyright IBM 2017, 2022.</p><p>This code is licensed under the Apache License, Version 2.0. You may<br>obtain a copy of this license in the LICENSE.txt file in the root directory<br> of this source tree or at http://www.apache.org/licenses/LICENSE-2.0.<p>Any modifications or derivative works of this code must retain this<br>copyright notice, and modified files need to carry a notice indicating<br>that they have been altered from the originals.</p></div>"
      ],
      "text/plain": [
       "<IPython.core.display.HTML object>"
      ]
     },
     "metadata": {},
     "output_type": "display_data"
    }
   ],
   "source": [
    "import qiskit.tools.jupyter\n",
    "\n",
    "%qiskit_version_table\n",
    "%qiskit_copyright"
   ]
  },
  {
   "cell_type": "code",
   "execution_count": 12,
   "id": "214f6a19",
   "metadata": {},
   "outputs": [],
   "source": [
    "# distributions = [Agent_based_uniform, Agent_based_normal, Beta_distribution, Modified_normal_distribution,\n",
    "#                  Modified_uniform_distribution, Normal_distribution, SVA_BETA_distribution, Weibull_distribution,\n",
    "#                  Rayleigh_distribution,Weighted_random_with_chisquare, F_distribution, Laplace_or_double_exponential]\n",
    "# n_agents = [4]\n",
    "\n",
    "# for distribution in distributions:\n",
    "#     for n in n_agents:\n",
    "#         # print(f'Executing {distribution.__name__} distribution for {n} agents,',end=' ')\n",
    "#         coalition_values, linear, quadratic = get_linear_quads(distribution,n)\n",
    "        \n",
    "        \n",
    "#         #_, fval, _, rank = results_from_QAOA(qaoa_result)\n",
    "#         # print(string, f'rank: {rank},', f'fval:{fval},', f'optimal p:{p}')\n",
    "        \n",
    "#         qaoa_result, p, init = QAOA_optimization(linear, quadratic, n_init=50, p_list=np.arange(1,10))\n",
    "#         sample_set_dwave = dwave_solver(linear, quadratic)\n",
    "#         sample_set_exact = exact_solver(linear, quadratic)\n",
    "        \n",
    "        \n",
    "        \n",
    "#         solution_qaoa, _,_,_ = results_from_QAOA(qaoa_result)\n",
    "#         solution_dwave, _,_,_ = results_from_dwave(sample_set_dwave)\n",
    "#         solution_exact, _,_,_ = results_from_dwave(sample_set_exact, exact=True)\n",
    "        \n",
    "#         if not solution_exact == solution_dwave:\n",
    "#             print(f'(Error - dwave) Executing {distribution.__name__} distribution for {n} agents',end=' ')\n",
    "#             print('\\n')\n",
    "#         elif not solution_exact == solution_qaoa:\n",
    "#             print(f'(Error - qaoa) Executing {distribution.__name__} distribution for {n} agents',end=' ')\n",
    "#             print('\\n')\n",
    "#         else:\n",
    "#             print(f'(OK) Executing {distribution.__name__} distribution for {n} agents',end=' ')\n",
    "#             print('\\n')\n",
    "#         print('--------------------------------------------------------')"
   ]
  },
  {
   "cell_type": "code",
   "execution_count": 13,
   "id": "e676b438",
   "metadata": {},
   "outputs": [],
   "source": [
    "# #view output table\n",
    "# def highlight_false(s, column):\n",
    "#     is_false = pd.Series(data=False, index=s.index)\n",
    "#     is_false[column] = s.loc[column] == False\n",
    "#     return ['background-color: black' if is_false.any() else '' for v in is_false]\n",
    "\n",
    "# df = pd.DataFrame(table_contents, columns=table_headers)\n",
    "# df.to_pickle('/content/drive/MyDrive/'+'report.pkl')\n",
    "\n",
    "# df.drop('Proability Distribution', axis=1).style.apply(highlight_false, column='QAOA Result', axis=1)"
   ]
  },
  {
   "cell_type": "code",
   "execution_count": 14,
   "id": "3c2ab5b7",
   "metadata": {},
   "outputs": [],
   "source": [
    "# np.random.seed(seed=1234)\n",
    "# coalition_values, linear, quadratic = get_linear_quads(distribution,4)\n",
    "# linear = collections.OrderedDict(sorted(linear.items()))\n",
    "# print('linear:',linear, '\\n', 'quadratic:',quadratic)"
   ]
  },
  {
   "cell_type": "code",
   "execution_count": 15,
   "id": "67bf364a",
   "metadata": {},
   "outputs": [],
   "source": [
    "# exact_solution = list(map(np.float,list(solve_BILP_classical(coalition_values))))\n",
    "\n",
    "# print(exact_solution)"
   ]
  }
 ],
 "metadata": {
  "kernelspec": {
   "display_name": "Python 3 (ipykernel)",
   "language": "python",
   "name": "python3"
  },
  "language_info": {
   "codemirror_mode": {
    "name": "ipython",
    "version": 3
   },
   "file_extension": ".py",
   "mimetype": "text/x-python",
   "name": "python",
   "nbconvert_exporter": "python",
   "pygments_lexer": "ipython3",
   "version": "3.8.10"
  }
 },
 "nbformat": 4,
 "nbformat_minor": 5
}
