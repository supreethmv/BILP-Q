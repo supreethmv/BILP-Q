{
 "cells": [
  {
   "cell_type": "code",
   "execution_count": 38,
   "id": "0064a0fc",
   "metadata": {},
   "outputs": [],
   "source": [
    "import matplotlib.pyplot as plt\n",
    "import numpy as np"
   ]
  },
  {
   "cell_type": "code",
   "execution_count": 39,
   "id": "b5b99dac",
   "metadata": {},
   "outputs": [],
   "source": [
    "n_max = 21\n",
    "n=np.arange(1,n_max)"
   ]
  },
  {
   "cell_type": "code",
   "execution_count": 40,
   "id": "15acb882",
   "metadata": {},
   "outputs": [],
   "source": [
    "int_max = 2**(n-1)\n",
    "int_min =  2\n",
    "\n",
    "p_min = 1\n",
    "p_max = 50"
   ]
  },
  {
   "cell_type": "code",
   "execution_count": 41,
   "id": "163c9cb8",
   "metadata": {},
   "outputs": [],
   "source": [
    "# Classical baselines\n",
    "\n",
    "# bilp = 2**(2**n)\n",
    "IP = n**n\n",
    "IDP = 3**n\n",
    "\n",
    "\n",
    "# BILP-Q\n",
    "lo_bilpQ_int = (2**(n) - 1) + p_min * ( 3 * ( 2**n - 1 ) * (int_min) + 2*(2**n - 1))\n",
    "up_bilpQ_int = (2**(n) - 1) + p_min * ( 3 * ( 2**n - 1 ) * (int_max) + 2*(2**n - 1))\n",
    "\n",
    "\n",
    "lo_bilpQ_p = (2**(n) - 1) + p_min * (3 * ( 2**(n) - 1 ) * (int_min) + 2*(2**(n) - 1))\n",
    "up_bilpQ_p = (2**(n) - 1) + p_max * (3 * ( 2**(n) - 1 ) * (int_max) + 2*(2**(n) - 1))"
   ]
  },
  {
   "cell_type": "code",
   "execution_count": 42,
   "id": "5e1a3feb",
   "metadata": {},
   "outputs": [
    {
     "name": "stderr",
     "output_type": "stream",
     "text": [
      "/tmp/ipykernel_8075/4204846442.py:7: RuntimeWarning: divide by zero encountered in log2\n",
      "  IP = np.log2(IP)\n",
      "/tmp/ipykernel_8075/4204846442.py:7: RuntimeWarning: invalid value encountered in log2\n",
      "  IP = np.log2(IP)\n"
     ]
    }
   ],
   "source": [
    "lo_bilpQ_int = np.log2(lo_bilpQ_int)\n",
    "up_bilpQ_int = np.log2(up_bilpQ_int)\n",
    "\n",
    "lo_bilpQ_p = np.log2(lo_bilpQ_p)\n",
    "up_bilpQ_p = np.log2(up_bilpQ_p)\n",
    "\n",
    "IP = np.log2(IP)\n",
    "IDP = np.log2(IDP)"
   ]
  },
  {
   "cell_type": "code",
   "execution_count": 48,
   "id": "390ef299",
   "metadata": {},
   "outputs": [
    {
     "data": {
      "image/png": "[encoded data removed]",
      "text/plain": [
       "<Figure size 432x252 with 1 Axes>"
      ]
     },
     "metadata": {
      "needs_background": "light"
     },
     "output_type": "display_data"
    }
   ],
   "source": [
    "#plt.tight_layout()\n",
    "plt.figure(figsize=(6,3.5))\n",
    "plt.fill_between(n, lo_bilpQ_int, up_bilpQ_int, color = 'lightblue',\n",
    "                     label = 'BILP-Q', alpha = 0.5  )\n",
    "plt.fill_between(n, lo_bilpQ_p, up_bilpQ_p, color = 'lightskyblue',\n",
    "                     label = r'BILP-Q $(p_{max}=50)$', alpha = 0.1  )\n",
    "\n",
    "plt.plot(n, IP, label = 'IP', color='limegreen', linestyle = 'dotted')\n",
    "plt.plot(n, IDP, label = 'IDP-BOSS', color='blue', linestyle = 'dotted')\n",
    "#plt.scatter(n, bilpQ, label = 'BILP', color='limegreen', marker='+', s=15 )\n",
    "\n",
    "plt.xlabel(r'n° agents $(n)$')\n",
    "plt.ylabel(r'Time Complexity - $log_{2} (n°steps)$')\n",
    "# plt.xlim(-1, 80)\n",
    "plt.ylim(-5, 50)\n",
    "plt.grid(alpha=0.3)\n",
    "plt.ticklabel_format(style='sci', axis='y', scilimits=(0,0))\n",
    "plt.legend(loc='lower center', bbox_to_anchor=(0.5, -0.4), ncol =4, fontsize=10)\n",
    "plt.xticks(np.arange(0, 21, 2), ha='left')\n",
    "plt.yticks([0, 10, 20, 30, 40, 50, 60])\n",
    "plt.tick_params(labelsize=12)\n",
    "# plt.text(81, 95, r'$s = 1$', color='grey')\n",
    "# plt.text(81, 220, r'$s = 3$', color='grey')\n",
    "# plt.text(6, 510, r'$s = n$', color='grey')\n",
    "# plt.text(treshold-2, -30, \"{}\".format(int(treshold)), color = 'grey')\n",
    "# plt.yscale('log')\n",
    "plt.savefig('complexity.png', bbox_inches='tight', dpi =200)\n",
    "plt.show()\n",
    "# plt.close()"
   ]
  },
  {
   "cell_type": "code",
   "execution_count": 11,
   "id": "0dea4e64",
   "metadata": {},
   "outputs": [
    {
     "data": {
      "text/plain": [
       "100000"
      ]
     },
     "execution_count": 11,
     "metadata": {},
     "output_type": "execute_result"
    }
   ],
   "source": [
    "10**5"
   ]
  }
 ],
 "metadata": {
  "kernelspec": {
   "display_name": "Python 3 (ipykernel)",
   "language": "python",
   "name": "python3"
  },
  "language_info": {
   "codemirror_mode": {
    "name": "ipython",
    "version": 3
   },
   "file_extension": ".py",
   "mimetype": "text/x-python",
   "name": "python",
   "nbconvert_exporter": "python",
   "pygments_lexer": "ipython3",
   "version": "3.8.10"
  }
 },
 "nbformat": 4,
 "nbformat_minor": 5
}
