{
  "nbformat": 4,
  "nbformat_minor": 0,
  "metadata": {
    "kernelspec": {
      "display_name": "Python 3",
      "language": "python",
      "name": "python3"
    },
    "language_info": {
      "codemirror_mode": {
        "name": "ipython",
        "version": 3
      },
      "file_extension": ".py",
      "mimetype": "text/x-python",
      "name": "python",
      "nbconvert_exporter": "python",
      "pygments_lexer": "ipython3",
      "version": "3.7.7"
    },
    "colab": {
      "name": "CSG_qiskit_output_table_v6.ipynb",
      "provenance": [],
      "collapsed_sections": []
    }
  },
  "cells": [
    {
      "cell_type": "code",
      "source": [
        "#from google.colab import drive\n",
        "#drive.mount('/content/drive')"
      ],
      "metadata": {
        "id": "8LN935oxNP1E"
      },
      "execution_count": null,
      "outputs": []
    },
    {
      "cell_type": "markdown",
      "source": [
        "##Install dependencies"
      ],
      "metadata": {
        "id": "rT9QusGpxWnt"
      }
    },
    {
      "cell_type": "code",
      "metadata": {
        "id": "aGq1Kbo0hMZz"
      },
      "source": [
        "!pip install qiskit-aqua\n",
        "!pip install qiskit"
      ],
      "execution_count": null,
      "outputs": []
    },
    {
      "cell_type": "code",
      "metadata": {
        "id": "ZS_3yr1Q78En",
        "colab": {
          "base_uri": "https://localhost:8080/",
          "height": 35
        },
        "outputId": "155c2b19-8655-4179-d611-6a11538d8833"
      },
      "source": [
        "import qiskit\n",
        "qiskit.__version__"
      ],
      "execution_count": 9,
      "outputs": [
        {
          "output_type": "execute_result",
          "data": {
            "application/vnd.google.colaboratory.intrinsic+json": {
              "type": "string"
            },
            "text/plain": [
              "'0.19.1'"
            ]
          },
          "metadata": {},
          "execution_count": 9
        }
      ]
    },
    {
      "cell_type": "markdown",
      "source": [
        "##Importing dependencies"
      ],
      "metadata": {
        "id": "IufK7OlqxOtc"
      }
    },
    {
      "cell_type": "code",
      "metadata": {
        "id": "XhD9rxYp7NQ4"
      },
      "source": [
        "from qiskit import BasicAer\n",
        "from qiskit.aqua import aqua_globals, QuantumInstance\n",
        "\n",
        "from qiskit.aqua.algorithms import QAOA, NumPyMinimumEigensolver\n",
        "from qiskit.optimization.algorithms import MinimumEigenOptimizer, RecursiveMinimumEigenOptimizer\n",
        "from qiskit.optimization import QuadraticProgram\n",
        "\n",
        "from qiskit import Aer\n",
        "\n",
        "import math\n",
        "import numpy as np\n",
        "import pandas as pd\n",
        "from sympy import *\n",
        "import re\n",
        "import time\n",
        "import random\n",
        "import itertools"
      ],
      "execution_count": 10,
      "outputs": []
    },
    {
      "cell_type": "markdown",
      "source": [
        "## CSG problem solver Benchmark Dataset generator"
      ],
      "metadata": {
        "id": "5f2qoTpnr7GL"
      }
    },
    {
      "cell_type": "markdown",
      "source": [
        "###Different distributions data generator functions\n",
        "\n",
        "Agent_based_uniform \\\\\n",
        "Agent_based_normal \\\\\n",
        "Beta_distribution \\\\\n",
        "Modified_normal_distribution \\\\\n",
        "Modified_uniform_distribution \\\\\n",
        "Normal_distribution \\\\\n",
        "SVA_BETA_distribution \\\\\n",
        "Weibull_distribution \\\\\n",
        "Rayleigh_distribution \\\\\n",
        "Weighted_random_with_chisquare \\\\\n",
        "F_distribution \\\\\n",
        "Laplace_or_double_exponential \\\\"
      ],
      "metadata": {
        "id": "Zaf7cgskxG-j"
      }
    },
    {
      "cell_type": "code",
      "source": [
        "#Different distributions data generator functions\n",
        "\n",
        "def Agent_based_uniform(y,Power,Numofagent):\n",
        "  strx = bin(y)[2:]\n",
        "  length = len(strx)\n",
        "  Tempcoal = []\n",
        "  for x in range(0, length):\n",
        "      if (int(strx[x]) == 1):\n",
        "          Tempcoal.append(length - x)\n",
        "  sums = 0\n",
        "  for j in Tempcoal :\n",
        "      partial = np.random.uniform(0, 2 * Power.get(j))\n",
        "      sums = sums + partial\n",
        "  return sums\n",
        "\n",
        "\n",
        "def Agent_based_normal(y,Power,Numofagent):\n",
        "  strx = bin(y)[2:]\n",
        "  length = len(strx)\n",
        "  Tempcoal = []\n",
        "  for x in range(0, length):\n",
        "      if (int(strx[x]) == 1):\n",
        "          Tempcoal.append(length - x)\n",
        "  sums = 0\n",
        "  for j in Tempcoal:\n",
        "      partial = np.random.normal(Power.get(j), 0.01)\n",
        "      sums = sums + partial\n",
        "  return sums\n",
        "\n",
        "\n",
        "def Beta_distribution(y,Power,Numofagent):\n",
        "    return bin(y).count('1')* np.random.beta(.5, .5)\n",
        "\n",
        "\n",
        "def Modified_normal_distribution(y,Power,Numofagent):\n",
        "  mu = 10 * bin(y).count('1')\n",
        "  sigma = 0.01\n",
        "  value = np.random.normal(mu, sigma)\n",
        "  randval = np.random.uniform(0, 50)\n",
        "  if randval <= 20:\n",
        "      value = value + randval\n",
        "  return value\n",
        "\n",
        "\n",
        "def Modified_uniform_distribution(y,Power,Numofagent):\n",
        "  value= np.random.uniform(0,10*bin(y).count('1'))\n",
        "  randval = np.random.uniform(0, 50)\n",
        "  if randval <= 20:\n",
        "      value = value + randval\n",
        "  return  value\n",
        "\n",
        "\n",
        "def Normal_distribution(y,Power,Numofagent):\n",
        "  mu = 10 * bin(y).count('1')\n",
        "  sigma = 0.01\n",
        "  return np.random.normal(mu, sigma)\n",
        "\n",
        "\n",
        "def SVA_BETA_distribution(y,Power,Numofagent):\n",
        "  strx = bin(y)[2:]\n",
        "  length = len(strx)\n",
        "  Tempcoal = []\n",
        "  for x in range(0, length):\n",
        "      if (int(strx[x]) == 1):\n",
        "          Tempcoal.append(length - x)\n",
        "  x = len(Tempcoal)\n",
        "  inputx = x * np.random.beta(0.5, 0.5)\n",
        "  if (strx[len(strx) - 1] == str(1)):\n",
        "      inputx = 200 + inputx\n",
        "  return inputx\n",
        "\n",
        "\n",
        "def Weibull_distribution(y,Power,Numofagent):\n",
        "  lengthofcoal = bin(y).count('1')\n",
        "  value = np.random.weibull(lengthofcoal * lengthofcoal)\n",
        "  return value\n",
        "\n",
        "\n",
        "def Rayleigh_distribution(y,Power,Numofagent):\n",
        "  lengthofcoal = bin(y).count('1')\n",
        "  mu = 10 * lengthofcoal\n",
        "  modevalue = np.sqrt(2 / np.pi) * mu\n",
        "  value = np.random.rayleigh(modevalue)\n",
        "  return value\n",
        "\n",
        "\n",
        "def Weighted_random_with_chisquare(y,Power,Numofagent):\n",
        "  lengthofcoal = bin(y).count('1')\n",
        "  value = random.randint(1, lengthofcoal)\n",
        "  inputx = lengthofcoal * np.random.chisquare(lengthofcoal)\n",
        "  totalvalue = value + inputx\n",
        "  return totalvalue\n",
        "\n",
        "\n",
        "def F_distribution(y,Power,Numofagent):\n",
        "  lengthofcoal = bin(y).count('1')\n",
        "  dfden = lengthofcoal + 1\n",
        "  dfnum = 1\n",
        "  value = np.random.f(dfnum, dfden)\n",
        "  return value\n",
        "\n",
        "\n",
        "def Laplace_or_double_exponential(y,Power,Numofagent):\n",
        "  lengthofcoal = bin(y).count('1')\n",
        "  value = np.random.laplace(10 * lengthofcoal, 0.1)\n",
        "  return value\n"
      ],
      "metadata": {
        "id": "UiaIQqprt__G"
      },
      "execution_count": 11,
      "outputs": []
    },
    {
      "cell_type": "markdown",
      "source": [
        "###Problem instance generator"
      ],
      "metadata": {
        "id": "rcV3EihgxJN4"
      }
    },
    {
      "cell_type": "code",
      "source": [
        "def generate_problem_instance(distribution, NumAgent):\n",
        "    totalcoalitions = 2 ** NumAgent\n",
        "    y = 1\n",
        "    Agents = list(range(1, NumAgent + 1))\n",
        "    RealAgent = Agents[0:NumAgent]\n",
        "    Power = {}\n",
        "    for i in RealAgent:\n",
        "        Power[i] = np.random.uniform(0, 10)\n",
        "    coalition_values = {}\n",
        "    while (y < totalcoalitions):\n",
        "        sums = float(\"{0:.3f}\".format(distribution(y,Power,NumAgent)))\n",
        "        coalition_values[','.join([str(idx+1) for idx,bit in enumerate(bin(y)[2:][::-1]) if int(bit)])] = sums\n",
        "        y = y + 1\n",
        "    return coalition_values"
      ],
      "metadata": {
        "id": "QFQHrrYTIBmF"
      },
      "execution_count": 12,
      "outputs": []
    },
    {
      "cell_type": "markdown",
      "source": [
        "##Function to convert CSG characteristic function to a BILP problem"
      ],
      "metadata": {
        "id": "--fSQioH0KOW"
      }
    },
    {
      "cell_type": "code",
      "metadata": {
        "id": "rrCc6vj2LXLN"
      },
      "source": [
        "def convert_to_BILP(coalition_values):\n",
        "  \"\"\"\n",
        "  convert_to_BILP formulates the BILP problem for a given CSG problem instance\n",
        "  :param coalition_values: dictionary of game/problem instance with key as the coalitions and value as coalition values\n",
        "                          Also called the Characteristic function\n",
        "  :return: tuple of (c,S,b) where c is the coalition values, S is a the binary 2D array and b is a binary vector\n",
        "  \"\"\" \n",
        "  x={}\n",
        "  for i in range(len(coalition_values)):\n",
        "    x[i] = symbols(f'x_{i}')\n",
        "  n = list(coalition_values.keys())[-1].count(',')+1                              #get number of agents\n",
        "  S=[]\n",
        "  for agent in range(n):\n",
        "    temp = []\n",
        "    for coalition in coalition_values.keys():\n",
        "      if str(agent+1) in coalition:\n",
        "        temp.append(1)                                                            #'1' if agent is present in coalition\n",
        "      else:\n",
        "        temp.append(0)                                                            #'0' if agent is not present in coalition\n",
        "    S.append(temp)\n",
        "  b=[1]*n                                                                         # vector b is a unit vector in case of BILP of CSGP\n",
        "  c = list(coalition_values.values())                                             # vector of all costs (coalition values)\n",
        "  return (c,S,b)"
      ],
      "execution_count": 13,
      "outputs": []
    },
    {
      "cell_type": "code",
      "metadata": {
        "id": "GZNL3F76Mv-U"
      },
      "source": [
        "def get_QUBO_coeffs(c,S,b,P):\n",
        "  \"\"\"\n",
        "  get_QUBO_coeffs converts the BILP problem instace into linear and quadratic terms required for QUBO formulation\n",
        "  :param c: list of coalition values\n",
        "         S: a binary 2D array\n",
        "         b: a binary vector\n",
        "         P: Penalty coefficient for the constraints of BILP problem to convert into an unconstrained QUBO problem\n",
        "  :return linear: dictionary of linear coefficient terms\n",
        "          quadratic: dictionary of quadratic coefficient terms\n",
        "  \"\"\"\n",
        "  x={}\n",
        "  for i in range(len(c)):\n",
        "    x[i] = symbols(f'x_{i}')\n",
        "  final_eq = simplify(sum([c_value*x[i] for i,c_value in enumerate(c)])+P*sum([expand((sum([x[idx] for idx,element in enumerate(agent) if element])-1)**2) for agent in S])) #simplify numerical equation\n",
        "  linear={}\n",
        "  quadratic={}\n",
        "  for term in final_eq.as_coeff_add()[1]:\n",
        "    term = str(term)\n",
        "    if '**' in term:                                                              #get the coefficient of the squared terms as linear coefficients (diagonal elements of the Q matrix in the QUBO problem)\n",
        "      if term.count('*')==3:\n",
        "        linear[term.split('*')[1]] = float(term.split('*')[0])\n",
        "      else:\n",
        "        if not term.startswith('-'):\n",
        "          linear[term.split('**')[0]] = float(1)\n",
        "        else:\n",
        "          linear[term.split('**')[0][1:]] = float(-1)\n",
        "    elif term.count('*')==1:                                                        #get the coefficient of the linear terms (diagonal elements of the Q matrix in the QUBO problem)\n",
        "      linear[term.split('*')[1]] += float(term.split('*')[0])\n",
        "    else:\n",
        "      quadratic[(term.split('*')[1],term.split('*')[2])] = float(term.split('*')[0])  #get the coefficient of quadratic terms (upper diagonal elements of the Q matrix of the QUBO problem)  \n",
        "  linear = {k:-v for (k,v) in linear.items()}\n",
        "  #{k: abs(v) for k, v in D.items()}\n",
        "  quadratic = {k:-v for (k,v) in quadratic.items()}\n",
        "  return linear,quadratic"
      ],
      "execution_count": 14,
      "outputs": []
    },
    {
      "cell_type": "markdown",
      "source": [
        "###Utility functions"
      ],
      "metadata": {
        "id": "OrtdRhdj1SLe"
      }
    },
    {
      "cell_type": "code",
      "source": [
        "def natural_keys(text):\n",
        "  \"\"\"\n",
        "  alist.sort(key=natural_keys) sorts in human order\n",
        "  http://nedbatchelder.com/blog/200712/human_sorting.ht\n",
        "  For example: Built-in function ['x_8','x_10','x_1'].sort() will sort as ['x_1', 'x_10', 'x_8']\n",
        "  But using natural_keys as callback function for sort() will sort as ['x_1','x_8','x_10']\n",
        "  \"\"\"\n",
        "  return [ atoi(c) for c in re.split(r'(\\d+)', text) ]\n",
        "\n",
        "\n",
        "def atoi(text):\n",
        "  \"\"\"\n",
        "  Function returns the corresponding value of a numerical string as integer datatype\n",
        "  \"\"\"\n",
        "  return int(text) if text.isdigit() else text"
      ],
      "metadata": {
        "id": "POdD_b1t1QzH"
      },
      "execution_count": 15,
      "outputs": []
    },
    {
      "cell_type": "code",
      "source": [
        "def qaoa_for_qubo(qubo, p=1):                   # QAOA solver for QUBO\n",
        "  \"\"\"\n",
        "  qaoa_for_qubo solves the given QUBO using QAOA\n",
        "\n",
        "  \"\"\"\n",
        "  aqua_globals.random_seed = 123\n",
        "  initial_point = [np.random.uniform(2*np.pi) for _ in range(2*p)]\n",
        "  quantum_instance = QuantumInstance(BasicAer.get_backend('qasm_simulator'),       #qasm simulator\n",
        "                                     seed_simulator=aqua_globals.random_seed,\n",
        "                                     seed_transpiler=aqua_globals.random_seed)\n",
        "  qaoa_mes = QAOA(quantum_instance=quantum_instance, initial_point=initial_point,p=p)\n",
        "  qaoa = MinimumEigenOptimizer(qaoa_mes)    # using QAOA\n",
        "  result = qaoa.solve(qubo)\n",
        "  return result\n",
        "\n",
        "\n",
        "\n",
        "def numpy_for_qubo(qubo, p=None):                      # Classical solver for QUBO\n",
        "  \"\"\"\n",
        "  numpy_for_qubo solves the given QUBO using Numpy library functions\n",
        "  \"\"\"\n",
        "  exact_mes = NumPyMinimumEigensolver()\n",
        "  exact = MinimumEigenOptimizer(exact_mes)  # using the exact classical numpy minimum eigen solver\n",
        "  result = exact.solve(qubo)\n",
        "  return result"
      ],
      "metadata": {
        "id": "xcIMrPLh9anq"
      },
      "execution_count": 16,
      "outputs": []
    },
    {
      "cell_type": "code",
      "metadata": {
        "id": "g1WTaZHDOQb8"
      },
      "source": [
        "def solve_QUBO(linear, quadratic, algo, p=1):\n",
        "  \"\"\"\n",
        "  solve_QUBO is ahigher order function to solve QUBO using the given algo parameter function\n",
        "\n",
        "  \"\"\"\n",
        "  keys = list(linear.keys())\n",
        "  keys.sort(key=natural_keys)\n",
        "  qubo = QuadraticProgram()\n",
        "  for key in keys:\n",
        "    qubo.binary_var(key)                                                             # initialize the binary variables\n",
        "  qubo.minimize(linear=linear, quadratic=quadratic)                                  # initialize the QUBO maximization problem instance\n",
        "  op, offset = qubo.to_ising()\n",
        "  qp=QuadraticProgram()\n",
        "  qp.from_ising(op, offset, linear=True)\n",
        "  result = algo(qubo, p)\n",
        "  return result"
      ],
      "execution_count": 17,
      "outputs": []
    },
    {
      "cell_type": "code",
      "metadata": {
        "id": "GAKurdtt5tDp"
      },
      "source": [
        "#convert solution binary string to coalition structure and also output the coalition\n",
        "def decode(solution,coalition_values):\n",
        "  \"\"\"\n",
        "  Convert the solution binary string into a coalition sructure(a list of coalitions)\n",
        "  \"\"\"\n",
        "  output = []\n",
        "  for index,element in enumerate(solution):\n",
        "    if int(element)!=0:\n",
        "      output.append(set(list(coalition_values)[index].split(',')))\n",
        "  return output"
      ],
      "execution_count": 18,
      "outputs": []
    },
    {
      "cell_type": "code",
      "source": [
        "def get_linear_quads(distribution,n):\n",
        "  \"\"\"\n",
        "  wrapper function to fetch the linear and quadratic terms for a given distribution and number of agents\n",
        "  \"\"\"\n",
        "  coalition_values = generate_problem_instance(distribution, n)\n",
        "  c,S,b = convert_to_BILP(coalition_values)\n",
        "  qubo_penalty =-50                                                 #lambda is a negative constant\n",
        "  linear,quadratic = get_QUBO_coeffs(c,S,b,qubo_penalty)\n",
        "  return coalition_values,linear,quadratic"
      ],
      "metadata": {
        "id": "POQElZYVHygA"
      },
      "execution_count": 19,
      "outputs": []
    },
    {
      "cell_type": "code",
      "source": [
        ""
      ],
      "metadata": {
        "id": "nRHLkF84axNH"
      },
      "execution_count": 19,
      "outputs": []
    },
    {
      "cell_type": "code",
      "source": [
        ""
      ],
      "metadata": {
        "id": "ddoFJDyXaxKg"
      },
      "execution_count": 19,
      "outputs": []
    },
    {
      "cell_type": "code",
      "source": [
        ""
      ],
      "metadata": {
        "id": "ihapvZQ-axHy"
      },
      "execution_count": 19,
      "outputs": []
    },
    {
      "cell_type": "markdown",
      "source": [
        "##Classical Solver (using Brute Force)"
      ],
      "metadata": {
        "id": "IfemJD9Revyb"
      }
    },
    {
      "cell_type": "code",
      "metadata": {
        "id": "yIuNON72R8gF"
      },
      "source": [
        "#Classical BILP solver\n",
        "\n",
        "def constraint(x,S):\n",
        "  \"\"\"\n",
        "  constraint(x,S) returns True if x is a valid binary string, else False\n",
        "  \"\"\"\n",
        "  for i in range(len(S)):\n",
        "    temp = 0\n",
        "    for j in range(len(x)):\n",
        "      temp+= (S[i][j]*int(x[j]))\n",
        "    if temp!=1:\n",
        "      return False\n",
        "  return True\n",
        "\n",
        "\n",
        "def solve_BILP_classical(coalition_values):\n",
        "  \"\"\"\n",
        "  solve_BILP_classical() Evaluates the coalition value for all possible valid binary strings\n",
        "  \"\"\"\n",
        "  S=[]\n",
        "  for i in range(math.ceil(math.sqrt(len(coalition_values)))):                    #get number of agents\n",
        "    S.append([])\n",
        "    for j,value in coalition_values.items():\n",
        "      if str(i+1) in j:\n",
        "        S[i].append(1)\n",
        "      else:\n",
        "        S[i].append(0)\n",
        "  optimal_cost = 0\n",
        "  for b in range(2**len(coalition_values)):\n",
        "    x = [int(t) for t in reversed(list(bin(b)[2:].zfill(len(coalition_values))))]\n",
        "    x = ''.join(str(e) for e in x)\n",
        "    if constraint(x,S):\n",
        "      cost = 0\n",
        "      for j in range(len(x)):\n",
        "        cost+=coalition_values[list(coalition_values.keys())[j]]*int(x[j])\n",
        "      if optimal_cost<cost:\n",
        "        optimal_cost = cost\n",
        "        optimal_x = x\n",
        "  return optimal_x"
      ],
      "execution_count": 20,
      "outputs": []
    },
    {
      "cell_type": "code",
      "source": [
        "table_headers = ['Distribution', 'No. of Agents','Solution Function Value','Solution Binary String',\\\n",
        "                 'QAOA Solution','True Solution (Classical)','QAOA Result','Time taken for QAOA',\\\n",
        "                 'Optimal p (QAOA layers)','Ranking Probability','Proability Distribution']\n",
        "table_contents = []\n",
        "\n",
        "\n",
        "distributions = [Agent_based_uniform,\n",
        "               Agent_based_normal,\n",
        "               Beta_distribution,\n",
        "               Modified_normal_distribution,\n",
        "               Modified_uniform_distribution,\n",
        "               Normal_distribution,\n",
        "               SVA_BETA_distribution,\n",
        "               Weibull_distribution,\n",
        "               Rayleigh_distribution,\n",
        "               Weighted_random_with_chisquare,\n",
        "               F_distribution,\n",
        "               Laplace_or_double_exponential]\n",
        "#distributions = [SVA_BETA_distribution]\n",
        "n_agents = [2,3,4]\n",
        "#n_agents = [3]\n",
        "\n",
        "for distribution in distributions:\n",
        "  for n in n_agents:\n",
        "    print(f'Executing {distribution.__name__} distribution for {n} agents,',end=' ')\n",
        "    \n",
        "    coalition_values, linear, quadratic = get_linear_quads(distribution,n)\n",
        "\n",
        "\n",
        "    p = 1                                            # number of QAOA layers\n",
        "    classical_solution = 0\n",
        "    qaoa_solution = 1\n",
        "\n",
        "\n",
        "    classical_solution_binary_string = list(map(np.float,list(solve_BILP_classical(coalition_values))))\n",
        "    classical_solution = decode(classical_solution_binary_string, coalition_values)\n",
        "\n",
        "    while(classical_solution != qaoa_solution and p<=15):\n",
        "      start_time = time.time()\n",
        "      solution = solve_QUBO(linear,quadratic,qaoa_for_qubo,p)\n",
        "      optimal_coalition_structure = decode(solution.x,coalition_values)\n",
        "      qaoa_solution = decode(solution.x,coalition_values)\n",
        "      tte = time.time()-start_time\n",
        "      print(f'Time taken = {tte} for  p = {p}')\n",
        "      #probabilities = []\n",
        "      #for sample in solution.samples:\n",
        "      #  if False not in (sample.x == classical_solution_binary_string):\n",
        "      #    print('debug point--------------')\n",
        "      #    true_solution_probability = sample.probability\n",
        "      #  probabilities.append(sample.probability)\n",
        "      #probabilities = sorted(probabilities, reverse=True)\n",
        "      #print(f\"probabilities={probabilities}\")\n",
        "      #print(f\"true_solution_probability={true_solution_probability}\")\n",
        "      #for  idx,prob in enumerate(probabilities):\n",
        "      #  if (prob==true_solution_probability):\n",
        "      #    rank = idx\n",
        "      #    break\n",
        "      #[idx for idx,prob in enumerate(probabilities) if (prob==true_solution_probability)]\n",
        "      #rank = probabilities.index(true_solution_probability)\n",
        "      #print(\"List=====\",[sample.probability for sample in solution.samples])\n",
        "      #print(\"True solution probability=====\",[bin_str.probability for bin_str in solution.samples if False not in (bin_str.x == classical_solution_binary_string)])\n",
        "      #print(\"total samples =\",len(solution.samples))\n",
        "      try:\n",
        "        rank = 1 + sorted([sample.probability for sample in solution.samples],reverse=True).index([bin_str.probability for bin_str in solution.samples if False not in (bin_str.x == classical_solution_binary_string)][0])\n",
        "      except:\n",
        "        print(\"Exception Handled!!!!!!!!!! Trying again.....\")\n",
        "        continue\n",
        "      p+=1\n",
        "\n",
        "    row = []\n",
        "    row.append(distribution.__name__)                              #distribution used\n",
        "    row.append(n)                                                  #number of agents\n",
        "    row.append(solution.fval)                                      #Solution Function Value\n",
        "    row.append(list(map(int,solution.x)))                          #Solution Binary String\n",
        "    row.append(qaoa_solution)                                      #QAOA Solution\n",
        "    row.append(classical_solution)                                 #True solution\n",
        "    row.append(classical_solution == qaoa_solution)                #Correctness of the Quantum solution\n",
        "    row.append(tte)                                                #Time to execute the QAOA circuit\n",
        "    row.append(p if classical_solution == qaoa_solution else None) #value of p, number of layers, if the quantum solution is correct\n",
        "    row.append(f\"{rank}/{len(solution.samples)}\")                  #Probability rank of the True solution\n",
        "    row.append(solution.samples)                                   #Proability distribution generated\n",
        "    table_contents.append(row)\n",
        "    print('\\n')"
      ],
      "metadata": {
        "id": "VTUMvUXO93NH"
      },
      "execution_count": null,
      "outputs": []
    },
    {
      "cell_type": "markdown",
      "source": [
        "##Execute Functions and Generate"
      ],
      "metadata": {
        "id": "W0qNWpT4djGm"
      }
    },
    {
      "cell_type": "code",
      "source": [
        "#view output table\n",
        "def highlight_false(s, column):\n",
        "    is_false = pd.Series(data=False, index=s.index)\n",
        "    is_false[column] = s.loc[column] == False\n",
        "    return ['background-color: black' if is_false.any() else '' for v in is_false]\n",
        "\n",
        "df = pd.DataFrame(table_contents, columns=table_headers)\n",
        "#df.to_pickle('/content/drive/MyDrive/'+'report.pkl')\n",
        "\n",
        "df.drop('Proability Distribution', axis=1).style.apply(highlight_false, column='QAOA Result', axis=1)"
      ],
      "metadata": {
        "colab": {
          "base_uri": "https://localhost:8080/",
          "height": 147
        },
        "id": "ttIbGAvcZ5-I",
        "outputId": "f69cff1f-3ef5-4391-95df-5a84e1ed0226"
      },
      "execution_count": 36,
      "outputs": [
        {
          "output_type": "execute_result",
          "data": {
            "text/html": [
              "<style  type=\"text/css\" >\n",
              "#T_08f560ba_7326_11ec_bd97_0242ac1c0002row0_col0,#T_08f560ba_7326_11ec_bd97_0242ac1c0002row0_col1,#T_08f560ba_7326_11ec_bd97_0242ac1c0002row0_col2,#T_08f560ba_7326_11ec_bd97_0242ac1c0002row0_col3,#T_08f560ba_7326_11ec_bd97_0242ac1c0002row0_col4,#T_08f560ba_7326_11ec_bd97_0242ac1c0002row0_col5,#T_08f560ba_7326_11ec_bd97_0242ac1c0002row0_col6,#T_08f560ba_7326_11ec_bd97_0242ac1c0002row0_col7,#T_08f560ba_7326_11ec_bd97_0242ac1c0002row0_col8,#T_08f560ba_7326_11ec_bd97_0242ac1c0002row0_col9,#T_08f560ba_7326_11ec_bd97_0242ac1c0002row1_col0,#T_08f560ba_7326_11ec_bd97_0242ac1c0002row1_col1,#T_08f560ba_7326_11ec_bd97_0242ac1c0002row1_col2,#T_08f560ba_7326_11ec_bd97_0242ac1c0002row1_col3,#T_08f560ba_7326_11ec_bd97_0242ac1c0002row1_col4,#T_08f560ba_7326_11ec_bd97_0242ac1c0002row1_col5,#T_08f560ba_7326_11ec_bd97_0242ac1c0002row1_col6,#T_08f560ba_7326_11ec_bd97_0242ac1c0002row1_col7,#T_08f560ba_7326_11ec_bd97_0242ac1c0002row1_col8,#T_08f560ba_7326_11ec_bd97_0242ac1c0002row1_col9{\n",
              "            background-color:  black;\n",
              "        }</style><table id=\"T_08f560ba_7326_11ec_bd97_0242ac1c0002\" class=\"dataframe\"><thead>    <tr>        <th class=\"blank level0\" ></th>        <th class=\"col_heading level0 col0\" >Distribution</th>        <th class=\"col_heading level0 col1\" >No. of Agents</th>        <th class=\"col_heading level0 col2\" >Solution Function Value</th>        <th class=\"col_heading level0 col3\" >Solution Binary String</th>        <th class=\"col_heading level0 col4\" >QAOA Solution</th>        <th class=\"col_heading level0 col5\" >True Solution (Classical)</th>        <th class=\"col_heading level0 col6\" >QAOA Result</th>        <th class=\"col_heading level0 col7\" >Time taken for QAOA</th>        <th class=\"col_heading level0 col8\" >Optimal p (QAOA layers)</th>        <th class=\"col_heading level0 col9\" >Ranking Probability</th>    </tr></thead><tbody>\n",
              "                <tr>\n",
              "                        <th id=\"T_08f560ba_7326_11ec_bd97_0242ac1c0002level0_row0\" class=\"row_heading level0 row0\" >0</th>\n",
              "                        <td id=\"T_08f560ba_7326_11ec_bd97_0242ac1c0002row0_col0\" class=\"data row0 col0\" >SVA_BETA_distribution</td>\n",
              "                        <td id=\"T_08f560ba_7326_11ec_bd97_0242ac1c0002row0_col1\" class=\"data row0 col1\" >2</td>\n",
              "                        <td id=\"T_08f560ba_7326_11ec_bd97_0242ac1c0002row0_col2\" class=\"data row0 col2\" >-450.333000</td>\n",
              "                        <td id=\"T_08f560ba_7326_11ec_bd97_0242ac1c0002row0_col3\" class=\"data row0 col3\" >[1, 0, 1]</td>\n",
              "                        <td id=\"T_08f560ba_7326_11ec_bd97_0242ac1c0002row0_col4\" class=\"data row0 col4\" >[{'1'}, {'1', '2'}]</td>\n",
              "                        <td id=\"T_08f560ba_7326_11ec_bd97_0242ac1c0002row0_col5\" class=\"data row0 col5\" >[{'1'}, {'2'}]</td>\n",
              "                        <td id=\"T_08f560ba_7326_11ec_bd97_0242ac1c0002row0_col6\" class=\"data row0 col6\" >False</td>\n",
              "                        <td id=\"T_08f560ba_7326_11ec_bd97_0242ac1c0002row0_col7\" class=\"data row0 col7\" >2.442580</td>\n",
              "                        <td id=\"T_08f560ba_7326_11ec_bd97_0242ac1c0002row0_col8\" class=\"data row0 col8\" >None</td>\n",
              "                        <td id=\"T_08f560ba_7326_11ec_bd97_0242ac1c0002row0_col9\" class=\"data row0 col9\" >3/8</td>\n",
              "            </tr>\n",
              "            <tr>\n",
              "                        <th id=\"T_08f560ba_7326_11ec_bd97_0242ac1c0002level0_row1\" class=\"row_heading level0 row1\" >1</th>\n",
              "                        <td id=\"T_08f560ba_7326_11ec_bd97_0242ac1c0002row1_col0\" class=\"data row1 col0\" >SVA_BETA_distribution</td>\n",
              "                        <td id=\"T_08f560ba_7326_11ec_bd97_0242ac1c0002row1_col1\" class=\"data row1 col1\" >3</td>\n",
              "                        <td id=\"T_08f560ba_7326_11ec_bd97_0242ac1c0002row1_col2\" class=\"data row1 col2\" >-552.919000</td>\n",
              "                        <td id=\"T_08f560ba_7326_11ec_bd97_0242ac1c0002row1_col3\" class=\"data row1 col3\" >[1, 0, 1, 0, 1, 0, 0]</td>\n",
              "                        <td id=\"T_08f560ba_7326_11ec_bd97_0242ac1c0002row1_col4\" class=\"data row1 col4\" >[{'1'}, {'1', '2'}, {'1', '3'}]</td>\n",
              "                        <td id=\"T_08f560ba_7326_11ec_bd97_0242ac1c0002row1_col5\" class=\"data row1 col5\" >[{'2'}, {'1', '3'}]</td>\n",
              "                        <td id=\"T_08f560ba_7326_11ec_bd97_0242ac1c0002row1_col6\" class=\"data row1 col6\" >False</td>\n",
              "                        <td id=\"T_08f560ba_7326_11ec_bd97_0242ac1c0002row1_col7\" class=\"data row1 col7\" >18.283749</td>\n",
              "                        <td id=\"T_08f560ba_7326_11ec_bd97_0242ac1c0002row1_col8\" class=\"data row1 col8\" >None</td>\n",
              "                        <td id=\"T_08f560ba_7326_11ec_bd97_0242ac1c0002row1_col9\" class=\"data row1 col9\" >62/119</td>\n",
              "            </tr>\n",
              "    </tbody></table>"
            ],
            "text/plain": [
              "<pandas.io.formats.style.Styler at 0x7fd3c5edc9d0>"
            ]
          },
          "metadata": {},
          "execution_count": 36
        }
      ]
    },
    {
      "cell_type": "code",
      "metadata": {
        "id": "7WDnu7OH6qND"
      },
      "source": [
        "#Classical BILP solver     2,3,4,5(takes a lot of time)\n",
        "\n",
        "#Classical QUBO solver     2,3,4,5(resource overflow)gith\n",
        "\n",
        "#QAOA QUBO solver          2,3,4(15 qubits)(resource overflow),5(31 qubits)(resource overflow)"
      ],
      "execution_count": null,
      "outputs": []
    }
  ]
}