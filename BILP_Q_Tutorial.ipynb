{
  "nbformat": 4,
  "nbformat_minor": 0,
  "metadata": {
    "colab": {
      "name": "BILP-Q_Tutorial.ipynb",
      "provenance": [],
      "collapsed_sections": []
    },
    "kernelspec": {
      "name": "python3",
      "display_name": "Python 3"
    },
    "language_info": {
      "name": "python"
    }
  },
  "cells": [
    {
      "cell_type": "markdown",
      "source": [
        "## This notebook demonstrates the pipeline of solving the CSG problem using BILP-Q."
      ],
      "metadata": {
        "id": "tCd1bMQaI2h8"
      }
    },
    {
      "cell_type": "markdown",
      "source": [
        "**Note:** Make sure the scripts *Utils_Solvers.py* and *Utils_CSG.py* in the root directory of the repository is in the same location of this notebook."
      ],
      "metadata": {
        "id": "6aW6kIG6bV1D"
      }
    },
    {
      "cell_type": "markdown",
      "source": [
        "#### Install and  Import Dependencies\n"
      ],
      "metadata": {
        "id": "jNYLLUbWIk2p"
      }
    },
    {
      "cell_type": "code",
      "source": [
        "!pip install qiskit\n",
        "!pip install qiskit_optimization"
      ],
      "metadata": {
        "id": "24oELRTUYFyQ"
      },
      "execution_count": null,
      "outputs": []
    },
    {
      "cell_type": "markdown",
      "source": [
        "##### Important: Restart the runtime after installing *pylatexenc*"
      ],
      "metadata": {
        "id": "ZOHHJV_JmZEa"
      }
    },
    {
      "cell_type": "code",
      "source": [
        "!pip install pylatexenc                             # for fetching the diagram of the Quantum circuit used to solve\n",
        "\n",
        "# Important: Restart the runtime after installing 'pylatexenc'"
      ],
      "metadata": {
        "id": "ChsByqlBahwR"
      },
      "execution_count": null,
      "outputs": []
    },
    {
      "cell_type": "code",
      "source": [
        "!pip install dimod                                   #for runninng Quantum Aneealing approach to solve the CSG problem, you need a D-Wave account\n",
        "!pip install dwave                                   #for runninng Quantum Aneealing approach to solve the CSG problem, you need a D-Wave account\n",
        "!pip install dwave-system                            #for runninng Quantum Aneealing approach to solve the CSG problem, you need a D-Wave account"
      ],
      "metadata": {
        "id": "GnSpknmjZLuA"
      },
      "execution_count": null,
      "outputs": []
    },
    {
      "cell_type": "code",
      "source": [
        "from Utils_Solvers import *\n",
        "from Utils_CSG import *"
      ],
      "metadata": {
        "id": "fsE2jTvQIkBC"
      },
      "execution_count": 6,
      "outputs": []
    },
    {
      "cell_type": "markdown",
      "source": [
        "##Coalition Structure Generation(CSG) Problem Instance\n",
        "\n",
        "Consider a game consisiting of 3 agents. The value corresponding to each of the 7 possible coalitions are given as a dictionary with coalition string as key and its coalition value as value."
      ],
      "metadata": {
        "id": "v016HVvLFPCH"
      }
    },
    {
      "cell_type": "code",
      "execution_count": 7,
      "metadata": {
        "colab": {
          "base_uri": "https://localhost:8080/"
        },
        "id": "xhJQBqdPFLed",
        "outputId": "4afd2247-d246-435f-e451-bd110d32db83"
      },
      "outputs": [
        {
          "output_type": "execute_result",
          "data": {
            "text/plain": [
              "{'1': 30, '1,2': 70, '1,2,3': 90, '1,3': 60, '2': 40, '2,3': 65, '3': 25}"
            ]
          },
          "metadata": {},
          "execution_count": 7
        }
      ],
      "source": [
        "coalition_values={\n",
        "    '1':30,\n",
        "    '2':40,\n",
        "    '3':25,\n",
        "    '1,2':70,\n",
        "    '1,3':60,\n",
        "    '2,3':65,\n",
        "    '1,2,3':90\n",
        "}\n",
        "\n",
        "coalition_values"
      ]
    },
    {
      "cell_type": "markdown",
      "source": [
        "## Reduce the CSG problem to a Binary Integer Linaer Programming(BILP) Problem\n",
        "\n",
        "The BILP problem is described as a cost vector $C$, a binary vector $b$ and a $(n \\times (2^n-1))$ binary matrix $S$, with  ~$n$~ agents ~$A=\\{a_1,a_2,....a_n\\}$~ as rows and ~$\\mathcal{P}(A)$~ coalitions as columns(exclude the null set).\n",
        "$S_{i,j}$ is $1$ if $a_i \\in C_j$. The solution $x=\\{x_1,x_2,..,x_{2^n-1}\\}$ is a $(2^n-1)$ binary string,  which represents a $1$ if a coalition is selected in the solution.\\\n",
        "\\\n",
        "The Binary Integer Linear Programming problem is a constraint optimization problem.\n",
        "The cost function to maximize and the constraint to be satisfied can be defined using the following formulae:\n",
        "\\begin{equation}\n",
        " \\text{Maximize}\\ \\sum_{j=1}^{2^n-1} v(C_j).x_j\n",
        "\\end{equation}\n",
        "\\begin{equation}\n",
        "\\begin{split}\n",
        "\\text{subject to}\\ \\sum_{j=1}^{2^n-1} S_{i,j}.x_j=1\\ \\text{for}\\ i=1,2,....,n\\\\\n",
        "x_j \\in \\{0,1\\}\\ \\ \\text{for}\\ j=1,2,.....,(2^n-1)\n",
        "\\end{split}\n",
        "\\end{equation}"
      ],
      "metadata": {
        "id": "3c-CTot4Jp6Q"
      }
    },
    {
      "cell_type": "code",
      "source": [
        "c,S,b = convert_to_BILP(coalition_values)       # A function in Utils_CSG.py\n",
        "print(f'c = {c}\\nS = {S}\\nb = {b}')\n"
      ],
      "metadata": {
        "colab": {
          "base_uri": "https://localhost:8080/"
        },
        "id": "PtKcdUAAJqYS",
        "outputId": "6c6c4e31-8e6f-4353-ecd9-5100aae420db"
      },
      "execution_count": 8,
      "outputs": [
        {
          "output_type": "stream",
          "name": "stdout",
          "text": [
            "c = [30, 40, 25, 70, 60, 65, 90]\n",
            "S = [[1, 0, 0, 1, 1, 0, 1], [0, 1, 0, 1, 0, 1, 1], [0, 0, 1, 0, 1, 1, 1]]\n",
            "b = [1, 1, 1]\n"
          ]
        }
      ]
    },
    {
      "cell_type": "markdown",
      "source": [
        "## Convert the BILP problem to a Quadratic Unconsrained Binary Optimization(QUBO) problem.\n",
        "\n",
        "QUBO model is expressed as following\n",
        "\\begin{equation}\n",
        "\\begin{split}\n",
        "    QUBO: min/max\\ y = x^T Q x\\\\\n",
        "    x \\in \\mathbb{R}^{n \\times 1}\\ and\\ Q \\in \\mathbb{R}^{n \\times n}\n",
        "\\end{split}\n",
        "\\end{equation}\n",
        "where x is again the vector of binary decision variables and Q is a square matrix of constants. We can assume that Q is symmetric or upper-triangular matrix, with out any loss of generality.\n",
        "\n",
        "Symmetric: for all $i,j \\in \\{1,2,...,n\\}$, except $i=j$ replace $q_{ij}$ with $\\frac{(q_{ij}+q_{ji})}{2}$\n",
        "\n",
        "Upper-Triangular matrix: for all $i,j \\in \\{1,2,...,n\\}$, when $j > i$ replace $q_{ij}$ with $q_{ij}+q_{ji}$ and when $j<i$ replace $q_{ij}$ with $0$.\n",
        "\n",
        "\n",
        "The CSG problem is a maximization problem. \n",
        "The converted BILP to QUBO will be a minimization problem.\n",
        "The constraints in the BILP formulation of the CSG problem will be subtracted from the cost function with penalty coefficients. These penalty coefficients are vital and has to be of high magnitude as the size of the problem increases.\n",
        "\n",
        "Specific to this tutorial, the chosen penalty coefficient is $50$, which makes sure the solution generated by QUBO problem is always the same as that of the original CSG problem. The value $50$ will be multiplied by $-1$ and added to the cost function which is same as subrating from the cost function.\n",
        "\n",
        "The below function will generate the linear and quadratic coefficients as dictionaries which constitutes the Q matrix of the QUBO problem."
      ],
      "metadata": {
        "id": "dNuqB-OxLuDW"
      }
    },
    {
      "cell_type": "code",
      "source": [
        "qubo_penalty = 50 * -1\n",
        "\n",
        "linear,quadratic = get_QUBO_coeffs(c,S,b,qubo_penalty)        # A function in Utils_CSG.py\n",
        "\n",
        "\n",
        "\n",
        "print(f\"Linear Coefficients = {linear} \\n Quadratic Coefficients = {quadratic}\")"
      ],
      "metadata": {
        "colab": {
          "base_uri": "https://localhost:8080/"
        },
        "id": "Woaj1fF5PU6q",
        "outputId": "47b9e58f-4e7a-4f06-ed5d-7d5b170a8b81"
      },
      "execution_count": 9,
      "outputs": [
        {
          "output_type": "stream",
          "name": "stdout",
          "text": [
            "Linear Coefficients = {'x_6': -240.0, 'x_3': -170.0, 'x_4': -160.0, 'x_5': -165.0, 'x_0': -80.0, 'x_1': -90.0, 'x_2': -75.0} \n",
            " Quadratic Coefficients = {('x_3', 'x_6'): 200.0, ('x_4', 'x_6'): 200.0, ('x_5', 'x_6'): 200.0, ('x_0', 'x_3'): 100.0, ('x_0', 'x_4'): 100.0, ('x_0', 'x_6'): 100.0, ('x_1', 'x_3'): 100.0, ('x_1', 'x_5'): 100.0, ('x_1', 'x_6'): 100.0, ('x_2', 'x_4'): 100.0, ('x_2', 'x_5'): 100.0, ('x_2', 'x_6'): 100.0, ('x_3', 'x_4'): 100.0, ('x_3', 'x_5'): 100.0, ('x_4', 'x_5'): 100.0}\n"
          ]
        }
      ]
    },
    {
      "cell_type": "markdown",
      "source": [
        "###Explicit display of **Q** matrix of the QUBO problem"
      ],
      "metadata": {
        "id": "N94SP5TYUywg"
      }
    },
    {
      "cell_type": "code",
      "source": [
        "Q = np.zeros([len(linear),len(linear)])\n",
        "\n",
        "#diagonal elements\n",
        "for key,value in linear.items():\n",
        "  Q[int(key.split('_')[1]),int(key.split('_')[1])] = value\n",
        "\n",
        "#non diagonal elements\n",
        "for key,value in quadratic.items():\n",
        "  Q[int(key[0].split('_')[1]),int(key[1].split('_')[1])] = value/2\n",
        "  Q[int(key[1].split('_')[1]),int(key[0].split('_')[1])] = value/2\n",
        "\n",
        "\n",
        "Q"
      ],
      "metadata": {
        "colab": {
          "base_uri": "https://localhost:8080/"
        },
        "id": "Z2yYiETedJ38",
        "outputId": "f255d16b-38a6-4f9f-86a5-09028eafe13e"
      },
      "execution_count": 10,
      "outputs": [
        {
          "output_type": "execute_result",
          "data": {
            "text/plain": [
              "array([[ -80.,    0.,    0.,   50.,   50.,    0.,   50.],\n",
              "       [   0.,  -90.,    0.,   50.,    0.,   50.,   50.],\n",
              "       [   0.,    0.,  -75.,    0.,   50.,   50.,   50.],\n",
              "       [  50.,   50.,    0., -170.,   50.,   50.,  100.],\n",
              "       [  50.,    0.,   50.,   50., -160.,   50.,  100.],\n",
              "       [   0.,   50.,   50.,   50.,   50., -165.,  100.],\n",
              "       [  50.,   50.,   50.,  100.,  100.,  100., -240.]])"
            ]
          },
          "metadata": {},
          "execution_count": 10
        }
      ]
    },
    {
      "cell_type": "markdown",
      "source": [
        "## Solving QUBO using QAOA"
      ],
      "metadata": {
        "id": "mW4DfiqgYkpk"
      }
    },
    {
      "cell_type": "code",
      "source": [
        "#@title Default title text\n",
        "def QAOA_optimization(linear, quadratic, n_init=10, p_list=np.arange(1,10), info=''):\n",
        "    backend = BasicAer.get_backend('qasm_simulator')\n",
        "    optimizer = COBYLA(maxiter=100, rhobeg=2, tol=1.5)\n",
        "    qubo = create_QUBO(linear, quadratic)\n",
        "    op, offset = qubo.to_ising()\n",
        "    qp = QuadraticProgram()\n",
        "    qp.from_ising(op, offset, linear=True)\n",
        "    qaoa_mes = QAOA(optimizer=optimizer, reps=1, quantum_instance=backend, initial_point=[0.,0.])\n",
        "    qaoa = MinimumEigenOptimizer(qaoa_mes)  # using QAOA\n",
        "    final_qaoa_result = qaoa.solve(qubo)\n",
        "    optimal_p = 1\n",
        "    optimal_init = [0.,0.]\n",
        "    time = final_qaoa_result.min_eigen_solver_result.optimizer_time\n",
        "    min_sol, min_fval, min_prob, min_rank, _ = results_from_QAOA(final_qaoa_result)\n",
        "    for p in p_list:\n",
        "        grid_init = [np.random.normal(1, 1, p * 2) for i in range(n_init)]\n",
        "        it, min_fval = 0, 0\n",
        "        for init in grid_init:\n",
        "            it = it + 1\n",
        "            qaoa_mes = QAOA(optimizer=optimizer, reps=p, quantum_instance=backend, initial_point=init)\n",
        "            qaoa = MinimumEigenOptimizer(qaoa_mes)  # using QAOA\n",
        "            qaoa_result = qaoa.solve(qubo)\n",
        "            _, fval, _, rank, _ = results_from_QAOA(qaoa_result)\n",
        "            if (min_fval>fval) and (rank<min_rank):\n",
        "                min_fval = fval\n",
        "                min_rank = rank\n",
        "                optimal_p = p\n",
        "                optimal_init = init\n",
        "                final_qaoa_result = qaoa_result\n",
        "                time = final_qaoa_result.min_eigen_solver_result.optimizer_time\n",
        "    qaoa_mes.get_optimal_circuit().draw('mpl', filename='circuit.png')\n",
        "    return final_qaoa_result, optimal_p, optimal_init, time"
      ],
      "metadata": {
        "cellView": "code",
        "id": "crd8vOMjocav"
      },
      "execution_count": 11,
      "outputs": []
    },
    {
      "cell_type": "code",
      "source": [
        "qaoa_result, p, init, _ = QAOA_optimization(linear, quadratic, n_init=1, p_list=np.arange(1,2))      # A function in Utils_Solvers.py\n",
        "\n",
        "solution, fval, prob, rank, time_run = results_from_QAOA(qaoa_result)\n",
        "\n",
        "solution"
      ],
      "metadata": {
        "colab": {
          "base_uri": "https://localhost:8080/"
        },
        "id": "n1sLmeu9VB88",
        "outputId": "802c90d8-e2c6-452f-ace5-55c2f9a69fc9"
      },
      "execution_count": 12,
      "outputs": [
        {
          "output_type": "execute_result",
          "data": {
            "text/plain": [
              "array([0., 1., 0., 0., 1., 0., 0.])"
            ]
          },
          "metadata": {},
          "execution_count": 12
        }
      ]
    },
    {
      "cell_type": "markdown",
      "source": [
        "## Visualize the quantum circuit used to solve the CSG problem:"
      ],
      "metadata": {
        "id": "IPdEVOuBmJdA"
      }
    },
    {
      "cell_type": "code",
      "source": [
        "#@title Default title text\n",
        "from IPython import display\n",
        "display.Image(\"./circuit.png\")"
      ],
      "metadata": {
        "cellView": "code",
        "id": "pzW2waMFqrbG"
      },
      "execution_count": null,
      "outputs": []
    },
    {
      "cell_type": "markdown",
      "source": [
        "## Decode the solution\n",
        "\n",
        "The solution from the QAOA will be an array of binary digiits.\n",
        "The following piece of code will convert the solution of QUBO to the solution of the original CSG problem, i.e., the Optimal Coaliton Structure"
      ],
      "metadata": {
        "id": "IZjP8f4VaTw1"
      }
    },
    {
      "cell_type": "code",
      "source": [
        "def decode(solution,coalition_values):\n",
        "  \"\"\"\n",
        "  Convert the solution binary string into a coalition sructure(a list of coalitions)\n",
        "  \"\"\"\n",
        "  output = []\n",
        "  for index,element in enumerate(solution):\n",
        "    if int(element)!=0:\n",
        "      output.append(set(list(coalition_values)[index].split(',')))\n",
        "  return output\n",
        "\n",
        "\n",
        "decode(solution, coalition_values)"
      ],
      "metadata": {
        "colab": {
          "base_uri": "https://localhost:8080/"
        },
        "id": "UHqpaOa3aRZ8",
        "outputId": "39fa0699-19c6-45db-c855-dcfa78959755"
      },
      "execution_count": 8,
      "outputs": [
        {
          "output_type": "execute_result",
          "data": {
            "text/plain": [
              "[{'2'}, {'1', '3'}]"
            ]
          },
          "metadata": {},
          "execution_count": 8
        }
      ]
    }
  ]
}