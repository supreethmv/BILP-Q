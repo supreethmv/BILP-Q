{
 "cells": [
  {
   "cell_type": "code",
   "execution_count": null,
   "id": "f7b08a90",
   "metadata": {
    "id": "f7b08a90"
   },
   "outputs": [],
   "source": [
    "import warnings\n",
    "warnings.filterwarnings('ignore')\n",
    "\n",
    "import os\n",
    "import pandas as pd\n",
    "import numpy as np\n",
    "import matplotlib.pyplot as plt"
   ]
  },
  {
   "cell_type": "code",
   "execution_count": null,
   "id": "8d896fc4",
   "metadata": {
    "id": "8d896fc4"
   },
   "outputs": [],
   "source": [
    "def rename_distr(data):\n",
    "    data.distribution[data.distribution=='Agent_based_normal'] = 'ABN'\n",
    "    data.distribution[data.distribution=='Agent_based_uniform'] = 'ABU'\n",
    "    data.distribution[data.distribution=='F_distribution'] = 'F'\n",
    "    data.distribution[data.distribution=='Laplace_or_double_exponential'] = 'Laplace'# r'$\\beta$'\n",
    "    data.distribution[data.distribution=='Modified_uniform_distribution'] = 'MU'\n",
    "    data.distribution[data.distribution=='Normal_distribution'] = r'Normal'\n",
    "    data.distribution[data.distribution=='Rayleigh_distribution'] = 'Rayleigh'\n",
    "    data.distribution[data.distribution=='SVA_BETA_distribution'] = r'SVA-$\\beta$'\n",
    "    data.distribution[data.distribution=='Weibull_distribution'] = 'Weibull'\n",
    "    data.distribution[data.distribution=='Weighted_random_with_chisquare'] = 'WRC'\n",
    "    return data"
   ]
  },
  {
   "cell_type": "markdown",
   "id": "4b2ca7b2",
   "metadata": {
    "id": "4b2ca7b2"
   },
   "source": [
    "## Summarize Quantum Annealing Results"
   ]
  },
  {
   "cell_type": "markdown",
   "id": "22d2df6b",
   "metadata": {
    "id": "22d2df6b"
   },
   "source": [
    "### 2 and 3 agents"
   ]
  },
  {
   "cell_type": "code",
   "execution_count": null,
   "id": "77b95704",
   "metadata": {
    "id": "77b95704"
   },
   "outputs": [],
   "source": [
    "filepath=os.path.join(\"output\",\"12\",\"QAOA_QA_23\", \"all_results.csv\")\n",
    "full_data=pd.read_csv(filepath)\n",
    "\n",
    "data = full_data[(full_data.device ==\"dwave\") & (full_data.flag==True) ]\n",
    "data = data.sort_values('rank', axis=0).drop_duplicates(subset=['distribution', 'n_agents'], keep='first')\n",
    "data = data.drop(['p', 'time_bilp', 'flag'], axis = 1)\n",
    "data_23 = data.sort_values(['distribution', 'n_agents'], axis=0).reset_index(drop=True)"
   ]
  },
  {
   "cell_type": "markdown",
   "id": "2f735462",
   "metadata": {
    "id": "2f735462"
   },
   "source": [
    "### From 4 to 7 agents"
   ]
  },
  {
   "cell_type": "code",
   "execution_count": null,
   "id": "e226f249",
   "metadata": {
    "id": "e226f249"
   },
   "outputs": [],
   "source": [
    "folder = os.path.join('output', '12', 'QA_hyper_params_47')\n",
    "file = 'all_results.csv'\n",
    "\n",
    "current_folder = folder + f'_{3}'\n",
    "file_path = os.path.join(current_folder, file)\n",
    "\n",
    "full_data = pd.read_csv(file_path)\n",
    "\n",
    "for i in range(4,8):\n",
    "    current_filepath = os.path.join(folder + f'_{i}', file)\n",
    "    full_data = full_data.append(pd.read_csv(current_filepath))\n",
    "full_data = full_data.drop(['p', 'time_bilp', 'flag'], axis = 1)"
   ]
  },
  {
   "cell_type": "code",
   "execution_count": null,
   "id": "3c977a26",
   "metadata": {
    "colab": {
     "base_uri": "https://localhost:8080/",
     "height": 1000
    },
    "id": "3c977a26",
    "outputId": "aa699da6-4126-4f26-c4f0-5d9073e0b104"
   },
   "outputs": [],
   "source": [
    "data_47 = full_data.sort_values('rank', axis=0).drop_duplicates(subset=['distribution', 'n_agents'], keep='first')\n",
    "data = data_23.append(data_47)\n",
    "data = data.sort_values(['distribution', 'n_agents'])\n",
    "\n",
    "data = rename_distr(data)\n",
    "data.reset_index()"
   ]
  },
  {
   "cell_type": "code",
   "execution_count": null,
   "id": "xvH8KNeK3eiI",
   "metadata": {
    "id": "xvH8KNeK3eiI"
   },
   "outputs": [],
   "source": [
    "decoded_solutions = []\n",
    "for row in data.iterrows():\n",
    "    solution = row[1]['solution']\n",
    "    if ',' not in solution: solution = solution.replace('.',',')\n",
    "    solution = ast.literal_eval(solution)\n",
    "    temp = []\n",
    "    for y,qubit in enumerate(solution):\n",
    "        y+=1\n",
    "        if int(qubit):\n",
    "            temp.append(','.join([str(idx+1) for idx,bit in enumerate(bin(y)[2:][::-1]) if int(bit)]))\n",
    "    decoded_solutions.append(temp)\n",
    "data['decoded_solutions'] = decoded_solutions"
   ]
  },
  {
   "cell_type": "code",
   "execution_count": null,
   "id": "UbhMM3EO4E69",
   "metadata": {
    "colab": {
     "base_uri": "https://localhost:8080/",
     "height": 1000
    },
    "id": "UbhMM3EO4E69",
    "outputId": "17b406a0-f612-4eb0-c626-dc5d12ddac66"
   },
   "outputs": [],
   "source": [
    "data.to_csv(os.path.join(\"output\",\"12\",\"QA_results_decoded.csv\"))\n",
    "data"
   ]
  },
  {
   "cell_type": "markdown",
   "id": "7fb26e4a",
   "metadata": {
    "id": "7fb26e4a"
   },
   "source": [
    "## Collect results from QAOA"
   ]
  },
  {
   "cell_type": "code",
   "execution_count": null,
   "id": "9766d27d",
   "metadata": {
    "id": "9766d27d"
   },
   "outputs": [],
   "source": [
    "filepath=os.path.join(\"output\",\"12\",\"QAOA_QA_23\", \"all_results.csv\")\n",
    "full_data=pd.read_csv(filepath)\n",
    "\n",
    "data = full_data[(full_data.device ==\"QAOA\") & (full_data.flag==True) ]\n",
    "data = data.sort_values('rank', axis=0).drop_duplicates(subset=['distribution', 'n_agents'], keep='first')"
   ]
  },
  {
   "cell_type": "code",
   "execution_count": null,
   "id": "EfkxG3QkWL9h",
   "metadata": {
    "colab": {
     "base_uri": "https://localhost:8080/",
     "height": 424
    },
    "id": "EfkxG3QkWL9h",
    "outputId": "036dc2e5-2c14-4231-dddf-6e8d8cf79ecc"
   },
   "outputs": [],
   "source": [
    "filepath=os.path.join(\"output\",\"12\",\"QAOA_QA_23\", \"all_results.csv\")\n",
    "full_data=pd.read_csv(filepath)\n",
    "full_data"
   ]
  },
  {
   "cell_type": "code",
   "execution_count": null,
   "id": "Du5uCUQkfwxa",
   "metadata": {
    "colab": {
     "base_uri": "https://localhost:8080/",
     "height": 554
    },
    "id": "Du5uCUQkfwxa",
    "outputId": "e41d7629-3e79-45a8-eb34-af3fad17d89c"
   },
   "outputs": [],
   "source": [
    "import ast\n",
    "import glob\n",
    "path = os.path.join(\"output\",\"12\",\"QAOA_QA_23\")\n",
    "csvfiles = glob.glob(path + \"/**/all_results.csv\", recursive = True)\n",
    "\n",
    "for filepath in csvfiles:\n",
    "    full_data=pd.read_csv(filepath) \n",
    "    decoded_solutions = []\n",
    "    for row in full_data.iterrows():\n",
    "        if row[1]['flag']:\n",
    "            solution = row[1]['solution']\n",
    "            if ',' not in solution: solution = solution.replace('.',',')\n",
    "            solution = ast.literal_eval(solution)\n",
    "            temp = []\n",
    "            for y,qubit in enumerate(solution):\n",
    "                y+=1\n",
    "                if int(qubit):\n",
    "                    temp.append(','.join([str(idx+1) for idx,bit in enumerate(bin(y)[2:][::-1]) if int(bit)]))\n",
    "            decoded_solutions.append(temp)\n",
    "        else:\n",
    "            decoded_solutions.append(None)\n",
    "    full_data['decoded_solutions'] = decoded_solutions\n",
    "full_data"
   ]
  },
  {
   "cell_type": "code",
   "execution_count": null,
   "id": "WoYH77O8WL4U",
   "metadata": {
    "id": "WoYH77O8WL4U"
   },
   "outputs": [],
   "source": [
    "full_data.to_csv(os.path.join(\"output\",\"12\", \"QAOA_results_decoded.csv\"))"
   ]
  }
 ],
 "metadata": {
  "colab": {
   "collapsed_sections": [],
   "name": "Decode_solutions.ipynb",
   "provenance": []
  },
  "kernelspec": {
   "display_name": "Python 3 (ipykernel)",
   "language": "python",
   "name": "python3"
  },
  "language_info": {
   "codemirror_mode": {
    "name": "ipython",
    "version": 3
   },
   "file_extension": ".py",
   "mimetype": "text/x-python",
   "name": "python",
   "nbconvert_exporter": "python",
   "pygments_lexer": "ipython3",
   "version": "3.7.9"
  }
 },
 "nbformat": 4,
 "nbformat_minor": 5
}